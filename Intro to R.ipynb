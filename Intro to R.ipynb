{
 "cells": [
  {
   "cell_type": "code",
   "execution_count": 18,
   "id": "eea98615",
   "metadata": {},
   "outputs": [],
   "source": [
    "#library(IRkernel)"
   ]
  },
  {
   "cell_type": "code",
   "execution_count": 2,
   "id": "b83a575a",
   "metadata": {
    "scrolled": true
   },
   "outputs": [
    {
     "data": {
      "text/html": [
       "'Hello'"
      ],
      "text/latex": [
       "'Hello'"
      ],
      "text/markdown": [
       "'Hello'"
      ],
      "text/plain": [
       "[1] \"Hello\""
      ]
     },
     "metadata": {},
     "output_type": "display_data"
    }
   ],
   "source": [
    "name<-\"Hello\"\n",
    "name"
   ]
  },
  {
   "cell_type": "code",
   "execution_count": 5,
   "id": "50e24e9e",
   "metadata": {
    "scrolled": true
   },
   "outputs": [
    {
     "name": "stderr",
     "output_type": "stream",
     "text": [
      "Installing package into ‘/home/jesuspacheco69jp/R/x86_64-pc-linux-gnu-library/4.3’\n",
      "(as ‘lib’ is unspecified)\n",
      "\n"
     ]
    }
   ],
   "source": [
    "#install package\n",
    "#install.packages(\"dslabs\")"
   ]
  },
  {
   "cell_type": "code",
   "execution_count": 7,
   "id": "5169d1d2",
   "metadata": {},
   "outputs": [],
   "source": [
    "#library(dslabs)"
   ]
  },
  {
   "cell_type": "code",
   "execution_count": 17,
   "id": "c4a458b4",
   "metadata": {},
   "outputs": [
    {
     "name": "stderr",
     "output_type": "stream",
     "text": [
      "Installing package into ‘/home/jesuspacheco69jp/R/x86_64-pc-linux-gnu-library/4.3’\n",
      "(as ‘lib’ is unspecified)\n",
      "\n",
      "also installing the dependencies ‘gargle’, ‘curl’, ‘systemfonts’, ‘textshaping’, ‘rmarkdown’, ‘selectr’, ‘stringi’, ‘broom’, ‘dbplyr’, ‘googledrive’, ‘googlesheets4’, ‘httr’, ‘modelr’, ‘ragg’, ‘reprex’, ‘rvest’, ‘stringr’, ‘tidyr’, ‘xml2’\n",
      "\n",
      "\n",
      "Warning message in install.packages(\"tidyverse\"):\n",
      "“installation of package ‘curl’ had non-zero exit status”\n",
      "Warning message in install.packages(\"tidyverse\"):\n",
      "“installation of package ‘systemfonts’ had non-zero exit status”\n",
      "Warning message in install.packages(\"tidyverse\"):\n",
      "“installation of package ‘stringi’ had non-zero exit status”\n",
      "Warning message in install.packages(\"tidyverse\"):\n",
      "“installation of package ‘xml2’ had non-zero exit status”\n",
      "Warning message in install.packages(\"tidyverse\"):\n",
      "“installation of package ‘textshaping’ had non-zero exit status”\n",
      "Warning message in install.packages(\"tidyverse\"):\n",
      "“installation of package ‘httr’ had non-zero exit status”\n",
      "Warning message in install.packages(\"tidyverse\"):\n",
      "“installation of package ‘stringr’ had non-zero exit status”\n",
      "Warning message in install.packages(\"tidyverse\"):\n",
      "“installation of package ‘gargle’ had non-zero exit status”\n",
      "Warning message in install.packages(\"tidyverse\"):\n",
      "“installation of package ‘rmarkdown’ had non-zero exit status”\n",
      "Warning message in install.packages(\"tidyverse\"):\n",
      "“installation of package ‘selectr’ had non-zero exit status”\n",
      "Warning message in install.packages(\"tidyverse\"):\n",
      "“installation of package ‘ragg’ had non-zero exit status”\n",
      "Warning message in install.packages(\"tidyverse\"):\n",
      "“installation of package ‘tidyr’ had non-zero exit status”\n",
      "Warning message in install.packages(\"tidyverse\"):\n",
      "“installation of package ‘broom’ had non-zero exit status”\n",
      "Warning message in install.packages(\"tidyverse\"):\n",
      "“installation of package ‘dbplyr’ had non-zero exit status”\n",
      "Warning message in install.packages(\"tidyverse\"):\n",
      "“installation of package ‘googledrive’ had non-zero exit status”\n",
      "Warning message in install.packages(\"tidyverse\"):\n",
      "“installation of package ‘reprex’ had non-zero exit status”\n",
      "Warning message in install.packages(\"tidyverse\"):\n",
      "“installation of package ‘rvest’ had non-zero exit status”\n",
      "Warning message in install.packages(\"tidyverse\"):\n",
      "“installation of package ‘googlesheets4’ had non-zero exit status”\n",
      "Warning message in install.packages(\"tidyverse\"):\n",
      "“installation of package ‘modelr’ had non-zero exit status”\n",
      "Warning message in install.packages(\"tidyverse\"):\n",
      "“installation of package ‘tidyverse’ had non-zero exit status”\n"
     ]
    }
   ],
   "source": [
    "# Install from CRAN\n",
    "#install.packages(\"tidyverse\")"
   ]
  },
  {
   "cell_type": "code",
   "execution_count": 4,
   "id": "767155b9",
   "metadata": {},
   "outputs": [],
   "source": [
    "#objects\n",
    "#<- equals =\n",
    "#workspace=stored objects\n",
    "a <- 1\n",
    "b <-1\n",
    "c <- -1"
   ]
  },
  {
   "cell_type": "code",
   "execution_count": 5,
   "id": "d1c3699e",
   "metadata": {},
   "outputs": [
    {
     "data": {
      "text/html": [
       "1"
      ],
      "text/latex": [
       "1"
      ],
      "text/markdown": [
       "1"
      ],
      "text/plain": [
       "[1] 1"
      ]
     },
     "metadata": {},
     "output_type": "display_data"
    }
   ],
   "source": [
    "a"
   ]
  },
  {
   "cell_type": "code",
   "execution_count": 7,
   "id": "5484a93a",
   "metadata": {},
   "outputs": [
    {
     "name": "stdout",
     "output_type": "stream",
     "text": [
      "[1] 1\n"
     ]
    }
   ],
   "source": [
    "print(a)"
   ]
  },
  {
   "cell_type": "code",
   "execution_count": 9,
   "id": "3ba9ce87",
   "metadata": {},
   "outputs": [
    {
     "data": {
      "text/html": [
       "<style>\n",
       ".list-inline {list-style: none; margin:0; padding: 0}\n",
       ".list-inline>li {display: inline-block}\n",
       ".list-inline>li:not(:last-child)::after {content: \"\\00b7\"; padding: 0 .5ex}\n",
       "</style>\n",
       "<ol class=list-inline><li>'a'</li><li>'b'</li><li>'c'</li></ol>\n"
      ],
      "text/latex": [
       "\\begin{enumerate*}\n",
       "\\item 'a'\n",
       "\\item 'b'\n",
       "\\item 'c'\n",
       "\\end{enumerate*}\n"
      ],
      "text/markdown": [
       "1. 'a'\n",
       "2. 'b'\n",
       "3. 'c'\n",
       "\n",
       "\n"
      ],
      "text/plain": [
       "[1] \"a\" \"b\" \"c\""
      ]
     },
     "metadata": {},
     "output_type": "display_data"
    }
   ],
   "source": [
    "#workspace=stored objects\n",
    "#check workspace\n",
    "ls()"
   ]
  },
  {
   "cell_type": "code",
   "execution_count": 13,
   "id": "c4181549",
   "metadata": {},
   "outputs": [
    {
     "data": {
      "text/html": [
       "1.68614066163451"
      ],
      "text/latex": [
       "1.68614066163451"
      ],
      "text/markdown": [
       "1.68614066163451"
      ],
      "text/plain": [
       "[1] 1.686141"
      ]
     },
     "metadata": {},
     "output_type": "display_data"
    }
   ],
   "source": [
    "#solve equation with pattern a2 +b2+c2=0\n",
    "(-b + sqrt(b^2-4*a*c))/(2*a)"
   ]
  },
  {
   "cell_type": "code",
   "execution_count": 12,
   "id": "6b03c1e1",
   "metadata": {},
   "outputs": [
    {
     "data": {
      "text/html": [
       "-1.61803398874989"
      ],
      "text/latex": [
       "-1.61803398874989"
      ],
      "text/markdown": [
       "-1.61803398874989"
      ],
      "text/plain": [
       "[1] -1.618034"
      ]
     },
     "metadata": {},
     "output_type": "display_data"
    }
   ],
   "source": [
    "(-b - sqrt(b^2-4*a*c))/(2*a)"
   ]
  },
  {
   "cell_type": "code",
   "execution_count": 16,
   "id": "0ee84064",
   "metadata": {
    "scrolled": true
   },
   "outputs": [
    {
     "data": {
      "text/html": [
       "5"
      ],
      "text/latex": [
       "5"
      ],
      "text/markdown": [
       "5"
      ],
      "text/plain": [
       "[1] 5"
      ]
     },
     "metadata": {},
     "output_type": "display_data"
    }
   ],
   "source": [
    "#functions\n",
    "#Math-log\n",
    "log(1024,base=4)"
   ]
  },
  {
   "cell_type": "code",
   "execution_count": 20,
   "id": "86aa00a8",
   "metadata": {},
   "outputs": [
    {
     "data": {
      "text/html": [
       "1"
      ],
      "text/latex": [
       "1"
      ],
      "text/markdown": [
       "1"
      ],
      "text/plain": [
       "[1] 1"
      ]
     },
     "metadata": {},
     "output_type": "display_data"
    }
   ],
   "source": [
    "#nested funtion-functions that we can use within other functions,executed inside out\n",
    "log(exp(1))"
   ]
  },
  {
   "cell_type": "code",
   "execution_count": 21,
   "id": "419bfe25",
   "metadata": {},
   "outputs": [
    {
     "data": {
      "text/html": [
       "3"
      ],
      "text/latex": [
       "3"
      ],
      "text/markdown": [
       "3"
      ],
      "text/plain": [
       "[1] 3"
      ]
     },
     "metadata": {},
     "output_type": "display_data"
    }
   ],
   "source": [
    "#specify arguments with = not <-\n",
    "#base is argument\n",
    "log(8,base=2)"
   ]
  },
  {
   "cell_type": "code",
   "execution_count": 22,
   "id": "9498e854",
   "metadata": {},
   "outputs": [],
   "source": [
    "#code document\n",
    "?'+'"
   ]
  },
  {
   "cell_type": "code",
   "execution_count": 28,
   "id": "4235fa33",
   "metadata": {},
   "outputs": [],
   "source": [
    "#prebuild datasets\n",
    "#co2"
   ]
  },
  {
   "cell_type": "code",
   "execution_count": 29,
   "id": "8cd684be",
   "metadata": {},
   "outputs": [],
   "source": [
    "#variables-cant have spaces and have to start with letter"
   ]
  },
  {
   "cell_type": "code",
   "execution_count": 34,
   "id": "2c60ce9c",
   "metadata": {
    "scrolled": true
   },
   "outputs": [
    {
     "data": {
      "text/html": [
       "'numeric'"
      ],
      "text/latex": [
       "'numeric'"
      ],
      "text/markdown": [
       "'numeric'"
      ],
      "text/plain": [
       "[1] \"numeric\""
      ]
     },
     "metadata": {},
     "output_type": "display_data"
    },
    {
     "name": "stdout",
     "output_type": "stream",
     "text": [
      "'data.frame':\t32 obs. of  11 variables:\n",
      " $ mpg : num  21 21 22.8 21.4 18.7 18.1 14.3 24.4 22.8 19.2 ...\n",
      " $ cyl : num  6 6 4 6 8 6 8 4 4 6 ...\n",
      " $ disp: num  160 160 108 258 360 ...\n",
      " $ hp  : num  110 110 93 110 175 105 245 62 95 123 ...\n",
      " $ drat: num  3.9 3.9 3.85 3.08 3.15 2.76 3.21 3.69 3.92 3.92 ...\n",
      " $ wt  : num  2.62 2.88 2.32 3.21 3.44 ...\n",
      " $ qsec: num  16.5 17 18.6 19.4 17 ...\n",
      " $ vs  : num  0 0 1 1 0 1 0 1 1 1 ...\n",
      " $ am  : num  1 1 1 0 0 0 0 0 0 0 ...\n",
      " $ gear: num  4 4 4 3 3 3 3 4 4 4 ...\n",
      " $ carb: num  4 4 1 1 2 1 4 2 2 4 ...\n"
     ]
    }
   ],
   "source": [
    "#data types\n",
    "#check datatype\n",
    "class(a)\n",
    "#data frames allows many data types to be put together\n",
    "#str=structure not string\n",
    "str(mtcars)\n",
    "#obs=rows,variables=columns"
   ]
  },
  {
   "cell_type": "code",
   "execution_count": 36,
   "id": "37c8819a",
   "metadata": {},
   "outputs": [
    {
     "data": {
      "text/html": [
       "<table class=\"dataframe\">\n",
       "<caption>A data.frame: 3 × 11</caption>\n",
       "<thead>\n",
       "\t<tr><th></th><th scope=col>mpg</th><th scope=col>cyl</th><th scope=col>disp</th><th scope=col>hp</th><th scope=col>drat</th><th scope=col>wt</th><th scope=col>qsec</th><th scope=col>vs</th><th scope=col>am</th><th scope=col>gear</th><th scope=col>carb</th></tr>\n",
       "\t<tr><th></th><th scope=col>&lt;dbl&gt;</th><th scope=col>&lt;dbl&gt;</th><th scope=col>&lt;dbl&gt;</th><th scope=col>&lt;dbl&gt;</th><th scope=col>&lt;dbl&gt;</th><th scope=col>&lt;dbl&gt;</th><th scope=col>&lt;dbl&gt;</th><th scope=col>&lt;dbl&gt;</th><th scope=col>&lt;dbl&gt;</th><th scope=col>&lt;dbl&gt;</th><th scope=col>&lt;dbl&gt;</th></tr>\n",
       "</thead>\n",
       "<tbody>\n",
       "\t<tr><th scope=row>Mazda RX4</th><td>21.0</td><td>6</td><td>160</td><td>110</td><td>3.90</td><td>2.620</td><td>16.46</td><td>0</td><td>1</td><td>4</td><td>4</td></tr>\n",
       "\t<tr><th scope=row>Mazda RX4 Wag</th><td>21.0</td><td>6</td><td>160</td><td>110</td><td>3.90</td><td>2.875</td><td>17.02</td><td>0</td><td>1</td><td>4</td><td>4</td></tr>\n",
       "\t<tr><th scope=row>Datsun 710</th><td>22.8</td><td>4</td><td>108</td><td> 93</td><td>3.85</td><td>2.320</td><td>18.61</td><td>1</td><td>1</td><td>4</td><td>1</td></tr>\n",
       "</tbody>\n",
       "</table>\n"
      ],
      "text/latex": [
       "A data.frame: 3 × 11\n",
       "\\begin{tabular}{r|lllllllllll}\n",
       "  & mpg & cyl & disp & hp & drat & wt & qsec & vs & am & gear & carb\\\\\n",
       "  & <dbl> & <dbl> & <dbl> & <dbl> & <dbl> & <dbl> & <dbl> & <dbl> & <dbl> & <dbl> & <dbl>\\\\\n",
       "\\hline\n",
       "\tMazda RX4 & 21.0 & 6 & 160 & 110 & 3.90 & 2.620 & 16.46 & 0 & 1 & 4 & 4\\\\\n",
       "\tMazda RX4 Wag & 21.0 & 6 & 160 & 110 & 3.90 & 2.875 & 17.02 & 0 & 1 & 4 & 4\\\\\n",
       "\tDatsun 710 & 22.8 & 4 & 108 &  93 & 3.85 & 2.320 & 18.61 & 1 & 1 & 4 & 1\\\\\n",
       "\\end{tabular}\n"
      ],
      "text/markdown": [
       "\n",
       "A data.frame: 3 × 11\n",
       "\n",
       "| <!--/--> | mpg &lt;dbl&gt; | cyl &lt;dbl&gt; | disp &lt;dbl&gt; | hp &lt;dbl&gt; | drat &lt;dbl&gt; | wt &lt;dbl&gt; | qsec &lt;dbl&gt; | vs &lt;dbl&gt; | am &lt;dbl&gt; | gear &lt;dbl&gt; | carb &lt;dbl&gt; |\n",
       "|---|---|---|---|---|---|---|---|---|---|---|---|\n",
       "| Mazda RX4 | 21.0 | 6 | 160 | 110 | 3.90 | 2.620 | 16.46 | 0 | 1 | 4 | 4 |\n",
       "| Mazda RX4 Wag | 21.0 | 6 | 160 | 110 | 3.90 | 2.875 | 17.02 | 0 | 1 | 4 | 4 |\n",
       "| Datsun 710 | 22.8 | 4 | 108 |  93 | 3.85 | 2.320 | 18.61 | 1 | 1 | 4 | 1 |\n",
       "\n"
      ],
      "text/plain": [
       "              mpg  cyl disp hp  drat wt    qsec  vs am gear carb\n",
       "Mazda RX4     21.0 6   160  110 3.90 2.620 16.46 0  1  4    4   \n",
       "Mazda RX4 Wag 21.0 6   160  110 3.90 2.875 17.02 0  1  4    4   \n",
       "Datsun 710    22.8 4   108   93 3.85 2.320 18.61 1  1  4    1   "
      ]
     },
     "metadata": {},
     "output_type": "display_data"
    }
   ],
   "source": [
    "#get first lines\n",
    "head(mtcars,3)"
   ]
  },
  {
   "cell_type": "code",
   "execution_count": 39,
   "id": "aa18c9a8",
   "metadata": {},
   "outputs": [],
   "source": [
    "#acess variables,use $ <- Accessor\n",
    "pop <- mtcars$mpg"
   ]
  },
  {
   "cell_type": "code",
   "execution_count": 40,
   "id": "d9512331",
   "metadata": {
    "scrolled": true
   },
   "outputs": [
    {
     "data": {
      "text/html": [
       "32"
      ],
      "text/latex": [
       "32"
      ],
      "text/markdown": [
       "32"
      ],
      "text/plain": [
       "[1] 32"
      ]
     },
     "metadata": {},
     "output_type": "display_data"
    }
   ],
   "source": [
    "#Vectors=rows,length=number of entries via vectors\n",
    "length(pop)"
   ]
  },
  {
   "cell_type": "markdown",
   "id": "bb40da97",
   "metadata": {},
   "source": [
    "#character vectors=used to store string\n",
    "\n",
    "#logical vectors-boolean values\n",
    "\n",
    "#== is a rational operator not posoitional\n",
    "\n",
    "Factors store categorial data\n",
    "\n",
    "Levels function allows you to view factors"
   ]
  },
  {
   "cell_type": "code",
   "execution_count": 1,
   "id": "31be0936",
   "metadata": {},
   "outputs": [],
   "source": [
    "#assignment 1\n",
    "library(dslabs)\n",
    "data(movielens)"
   ]
  },
  {
   "cell_type": "code",
   "execution_count": 2,
   "id": "791ca287",
   "metadata": {},
   "outputs": [
    {
     "name": "stdout",
     "output_type": "stream",
     "text": [
      "'data.frame':\t100004 obs. of  7 variables:\n",
      " $ movieId  : int  31 1029 1061 1129 1172 1263 1287 1293 1339 1343 ...\n",
      " $ title    : chr  \"Dangerous Minds\" \"Dumbo\" \"Sleepers\" \"Escape from New York\" ...\n",
      " $ year     : int  1995 1941 1996 1981 1989 1978 1959 1982 1992 1991 ...\n",
      " $ genres   : Factor w/ 901 levels \"(no genres listed)\",..: 762 510 899 120 762 836 81 762 844 899 ...\n",
      " $ userId   : int  1 1 1 1 1 1 1 1 1 1 ...\n",
      " $ rating   : num  2.5 3 3 2 4 2 2 2 3.5 2 ...\n",
      " $ timestamp: int  1260759144 1260759179 1260759182 1260759185 1260759205 1260759151 1260759187 1260759148 1260759125 1260759131 ...\n"
     ]
    }
   ],
   "source": [
    "str(movielens)"
   ]
  },
  {
   "cell_type": "code",
   "execution_count": 3,
   "id": "0bb6f12f",
   "metadata": {},
   "outputs": [
    {
     "data": {
      "text/html": [
       "'factor'"
      ],
      "text/latex": [
       "'factor'"
      ],
      "text/markdown": [
       "'factor'"
      ],
      "text/plain": [
       "[1] \"factor\""
      ]
     },
     "metadata": {},
     "output_type": "display_data"
    }
   ],
   "source": [
    "class(movielens$genres)"
   ]
  },
  {
   "cell_type": "code",
   "execution_count": 4,
   "id": "28456254",
   "metadata": {},
   "outputs": [
    {
     "data": {
      "text/html": [
       "'character'"
      ],
      "text/latex": [
       "'character'"
      ],
      "text/markdown": [
       "'character'"
      ],
      "text/plain": [
       "[1] \"character\""
      ]
     },
     "metadata": {},
     "output_type": "display_data"
    }
   ],
   "source": [
    "class(movielens$title)"
   ]
  },
  {
   "cell_type": "code",
   "execution_count": 5,
   "id": "2b37046a",
   "metadata": {},
   "outputs": [
    {
     "data": {
      "text/html": [
       "901"
      ],
      "text/latex": [
       "901"
      ],
      "text/markdown": [
       "901"
      ],
      "text/plain": [
       "[1] 901"
      ]
     },
     "metadata": {},
     "output_type": "display_data"
    }
   ],
   "source": [
    "length(levels(movielens$genre))"
   ]
  },
  {
   "cell_type": "code",
   "execution_count": 6,
   "id": "b086e849",
   "metadata": {},
   "outputs": [],
   "source": [
    "#vectors-entries in dataframe\n",
    "#create vectors using c()\n",
    "code=c(italy=380,france=56,korea=333)"
   ]
  },
  {
   "cell_type": "code",
   "execution_count": null,
   "id": "5b54b015",
   "metadata": {},
   "outputs": [],
   "source": []
  },
  {
   "cell_type": "code",
   "execution_count": 7,
   "id": "81170132",
   "metadata": {},
   "outputs": [
    {
     "data": {
      "text/html": [
       "<style>\n",
       ".dl-inline {width: auto; margin:0; padding: 0}\n",
       ".dl-inline>dt, .dl-inline>dd {float: none; width: auto; display: inline-block}\n",
       ".dl-inline>dt::after {content: \":\\0020\"; padding-right: .5ex}\n",
       ".dl-inline>dt:not(:first-of-type) {padding-left: .5ex}\n",
       "</style><dl class=dl-inline><dt>italy</dt><dd>380</dd><dt>france</dt><dd>56</dd><dt>korea</dt><dd>333</dd></dl>\n"
      ],
      "text/latex": [
       "\\begin{description*}\n",
       "\\item[italy] 380\n",
       "\\item[france] 56\n",
       "\\item[korea] 333\n",
       "\\end{description*}\n"
      ],
      "text/markdown": [
       "italy\n",
       ":   380france\n",
       ":   56korea\n",
       ":   333\n",
       "\n"
      ],
      "text/plain": [
       " italy france  korea \n",
       "   380     56    333 "
      ]
     },
     "metadata": {},
     "output_type": "display_data"
    },
    {
     "data": {
      "text/html": [
       "'numeric'"
      ],
      "text/latex": [
       "'numeric'"
      ],
      "text/markdown": [
       "'numeric'"
      ],
      "text/plain": [
       "[1] \"numeric\""
      ]
     },
     "metadata": {},
     "output_type": "display_data"
    },
    {
     "data": {
      "text/html": [
       "<style>\n",
       ".list-inline {list-style: none; margin:0; padding: 0}\n",
       ".list-inline>li {display: inline-block}\n",
       ".list-inline>li:not(:last-child)::after {content: \"\\00b7\"; padding: 0 .5ex}\n",
       "</style>\n",
       "<ol class=list-inline><li>1</li><li>6</li><li>11</li><li>16</li><li>21</li></ol>\n"
      ],
      "text/latex": [
       "\\begin{enumerate*}\n",
       "\\item 1\n",
       "\\item 6\n",
       "\\item 11\n",
       "\\item 16\n",
       "\\item 21\n",
       "\\end{enumerate*}\n"
      ],
      "text/markdown": [
       "1. 1\n",
       "2. 6\n",
       "3. 11\n",
       "4. 16\n",
       "5. 21\n",
       "\n",
       "\n"
      ],
      "text/plain": [
       "[1]  1  6 11 16 21"
      ]
     },
     "metadata": {},
     "output_type": "display_data"
    },
    {
     "data": {
      "text/html": [
       "<style>\n",
       ".dl-inline {width: auto; margin:0; padding: 0}\n",
       ".dl-inline>dt, .dl-inline>dd {float: none; width: auto; display: inline-block}\n",
       ".dl-inline>dt::after {content: \":\\0020\"; padding-right: .5ex}\n",
       ".dl-inline>dt:not(:first-of-type) {padding-left: .5ex}\n",
       "</style><dl class=dl-inline><dt>italy</dt><dd>380</dd><dt>france</dt><dd>56</dd></dl>\n"
      ],
      "text/latex": [
       "\\begin{description*}\n",
       "\\item[italy] 380\n",
       "\\item[france] 56\n",
       "\\end{description*}\n"
      ],
      "text/markdown": [
       "italy\n",
       ":   380france\n",
       ":   56\n",
       "\n"
      ],
      "text/plain": [
       " italy france \n",
       "   380     56 "
      ]
     },
     "metadata": {},
     "output_type": "display_data"
    },
    {
     "data": {
      "text/html": [
       "<style>\n",
       ".dl-inline {width: auto; margin:0; padding: 0}\n",
       ".dl-inline>dt, .dl-inline>dd {float: none; width: auto; display: inline-block}\n",
       ".dl-inline>dt::after {content: \":\\0020\"; padding-right: .5ex}\n",
       ".dl-inline>dt:not(:first-of-type) {padding-left: .5ex}\n",
       "</style><dl class=dl-inline><dt>italy</dt><dd>380</dd><dt>france</dt><dd>56</dd><dt>korea</dt><dd>333</dd></dl>\n"
      ],
      "text/latex": [
       "\\begin{description*}\n",
       "\\item[italy] 380\n",
       "\\item[france] 56\n",
       "\\item[korea] 333\n",
       "\\end{description*}\n"
      ],
      "text/markdown": [
       "italy\n",
       ":   380france\n",
       ":   56korea\n",
       ":   333\n",
       "\n"
      ],
      "text/plain": [
       " italy france  korea \n",
       "   380     56    333 "
      ]
     },
     "metadata": {},
     "output_type": "display_data"
    },
    {
     "data": {
      "text/html": [
       "<strong>italy:</strong> 380"
      ],
      "text/latex": [
       "\\textbf{italy:} 380"
      ],
      "text/markdown": [
       "**italy:** 380"
      ],
      "text/plain": [
       "italy \n",
       "  380 "
      ]
     },
     "metadata": {},
     "output_type": "display_data"
    }
   ],
   "source": [
    "#can also use name(codes)<-country to connect two vectors\n",
    "#seq() display sequence\n",
    "#display vetors using []\n",
    "code\n",
    "class(code)\n",
    "seq(1,25,5)\n",
    "code[c(1,2)]\n",
    "code[0:3]\n",
    "code[\"italy\"]"
   ]
  },
  {
   "cell_type": "code",
   "execution_count": 8,
   "id": "e57b9cee",
   "metadata": {},
   "outputs": [
    {
     "data": {
      "text/html": [
       "<style>\n",
       ".list-inline {list-style: none; margin:0; padding: 0}\n",
       ".list-inline>li {display: inline-block}\n",
       ".list-inline>li:not(:last-child)::after {content: \"\\00b7\"; padding: 0 .5ex}\n",
       "</style>\n",
       "<ol class=list-inline><li>'1'</li><li>'Canada'</li><li>'44'</li></ol>\n"
      ],
      "text/latex": [
       "\\begin{enumerate*}\n",
       "\\item '1'\n",
       "\\item 'Canada'\n",
       "\\item '44'\n",
       "\\end{enumerate*}\n"
      ],
      "text/markdown": [
       "1. '1'\n",
       "2. 'Canada'\n",
       "3. '44'\n",
       "\n",
       "\n"
      ],
      "text/plain": [
       "[1] \"1\"      \"Canada\" \"44\"    "
      ]
     },
     "metadata": {},
     "output_type": "display_data"
    }
   ],
   "source": [
    "#coercion-manipulate values to make it valid \n",
    "x <- c(1,\"Canada\",44)\n",
    "x"
   ]
  },
  {
   "cell_type": "code",
   "execution_count": 9,
   "id": "6153477b",
   "metadata": {},
   "outputs": [],
   "source": [
    "num<- 1"
   ]
  },
  {
   "cell_type": "code",
   "execution_count": 10,
   "id": "2b6b8890",
   "metadata": {},
   "outputs": [
    {
     "data": {
      "text/html": [
       "'character'"
      ],
      "text/latex": [
       "'character'"
      ],
      "text/markdown": [
       "'character'"
      ],
      "text/plain": [
       "[1] \"character\""
      ]
     },
     "metadata": {},
     "output_type": "display_data"
    }
   ],
   "source": [
    "#change number to char using as.character\n",
    "#change char to number using as.numeric\n",
    "#NA = missing data\n",
    "num1=as.character(num)\n",
    "class(num1)"
   ]
  },
  {
   "cell_type": "code",
   "execution_count": 15,
   "id": "74f46441",
   "metadata": {},
   "outputs": [
    {
     "data": {
      "text/html": [
       "<style>\n",
       ".list-inline {list-style: none; margin:0; padding: 0}\n",
       ".list-inline>li {display: inline-block}\n",
       ".list-inline>li:not(:last-child)::after {content: \"\\00b7\"; padding: 0 .5ex}\n",
       "</style>\n",
       "<ol class=list-inline><li>10.4</li><li>10.4</li><li>13.3</li><li>14.3</li><li>14.7</li><li>15</li><li>15.2</li><li>15.2</li><li>15.5</li><li>15.8</li><li>16.4</li><li>17.3</li><li>17.8</li><li>18.1</li><li>18.7</li><li>19.2</li><li>19.2</li><li>19.7</li><li>21</li><li>21</li><li>21.4</li><li>21.4</li><li>21.5</li><li>22.8</li><li>22.8</li><li>24.4</li><li>26</li><li>27.3</li><li>30.4</li><li>30.4</li><li>32.4</li><li>33.9</li></ol>\n"
      ],
      "text/latex": [
       "\\begin{enumerate*}\n",
       "\\item 10.4\n",
       "\\item 10.4\n",
       "\\item 13.3\n",
       "\\item 14.3\n",
       "\\item 14.7\n",
       "\\item 15\n",
       "\\item 15.2\n",
       "\\item 15.2\n",
       "\\item 15.5\n",
       "\\item 15.8\n",
       "\\item 16.4\n",
       "\\item 17.3\n",
       "\\item 17.8\n",
       "\\item 18.1\n",
       "\\item 18.7\n",
       "\\item 19.2\n",
       "\\item 19.2\n",
       "\\item 19.7\n",
       "\\item 21\n",
       "\\item 21\n",
       "\\item 21.4\n",
       "\\item 21.4\n",
       "\\item 21.5\n",
       "\\item 22.8\n",
       "\\item 22.8\n",
       "\\item 24.4\n",
       "\\item 26\n",
       "\\item 27.3\n",
       "\\item 30.4\n",
       "\\item 30.4\n",
       "\\item 32.4\n",
       "\\item 33.9\n",
       "\\end{enumerate*}\n"
      ],
      "text/markdown": [
       "1. 10.4\n",
       "2. 10.4\n",
       "3. 13.3\n",
       "4. 14.3\n",
       "5. 14.7\n",
       "6. 15\n",
       "7. 15.2\n",
       "8. 15.2\n",
       "9. 15.5\n",
       "10. 15.8\n",
       "11. 16.4\n",
       "12. 17.3\n",
       "13. 17.8\n",
       "14. 18.1\n",
       "15. 18.7\n",
       "16. 19.2\n",
       "17. 19.2\n",
       "18. 19.7\n",
       "19. 21\n",
       "20. 21\n",
       "21. 21.4\n",
       "22. 21.4\n",
       "23. 21.5\n",
       "24. 22.8\n",
       "25. 22.8\n",
       "26. 24.4\n",
       "27. 26\n",
       "28. 27.3\n",
       "29. 30.4\n",
       "30. 30.4\n",
       "31. 32.4\n",
       "32. 33.9\n",
       "\n",
       "\n"
      ],
      "text/plain": [
       " [1] 10.4 10.4 13.3 14.3 14.7 15.0 15.2 15.2 15.5 15.8 16.4 17.3 17.8 18.1 18.7\n",
       "[16] 19.2 19.2 19.7 21.0 21.0 21.4 21.4 21.5 22.8 22.8 24.4 26.0 27.3 30.4 30.4\n",
       "[31] 32.4 33.9"
      ]
     },
     "metadata": {},
     "output_type": "display_data"
    }
   ],
   "source": [
    "#sort()-sorts section\n",
    "sort(mtcars$mpg)"
   ]
  },
  {
   "cell_type": "code",
   "execution_count": 28,
   "id": "58d9c314",
   "metadata": {},
   "outputs": [
    {
     "data": {
      "text/html": [
       "<style>\n",
       ".list-inline {list-style: none; margin:0; padding: 0}\n",
       ".list-inline>li {display: inline-block}\n",
       ".list-inline>li:not(:last-child)::after {content: \"\\00b7\"; padding: 0 .5ex}\n",
       "</style>\n",
       "<ol class=list-inline><li>15</li><li>16</li><li>24</li><li>7</li><li>17</li><li>31</li><li>14</li><li>23</li><li>22</li><li>29</li><li>12</li><li>13</li><li>11</li><li>6</li><li>5</li><li>10</li><li>25</li><li>30</li><li>1</li><li>2</li><li>4</li><li>32</li><li>21</li><li>3</li><li>9</li><li>8</li><li>27</li><li>26</li><li>19</li><li>28</li><li>18</li><li>20</li></ol>\n"
      ],
      "text/latex": [
       "\\begin{enumerate*}\n",
       "\\item 15\n",
       "\\item 16\n",
       "\\item 24\n",
       "\\item 7\n",
       "\\item 17\n",
       "\\item 31\n",
       "\\item 14\n",
       "\\item 23\n",
       "\\item 22\n",
       "\\item 29\n",
       "\\item 12\n",
       "\\item 13\n",
       "\\item 11\n",
       "\\item 6\n",
       "\\item 5\n",
       "\\item 10\n",
       "\\item 25\n",
       "\\item 30\n",
       "\\item 1\n",
       "\\item 2\n",
       "\\item 4\n",
       "\\item 32\n",
       "\\item 21\n",
       "\\item 3\n",
       "\\item 9\n",
       "\\item 8\n",
       "\\item 27\n",
       "\\item 26\n",
       "\\item 19\n",
       "\\item 28\n",
       "\\item 18\n",
       "\\item 20\n",
       "\\end{enumerate*}\n"
      ],
      "text/markdown": [
       "1. 15\n",
       "2. 16\n",
       "3. 24\n",
       "4. 7\n",
       "5. 17\n",
       "6. 31\n",
       "7. 14\n",
       "8. 23\n",
       "9. 22\n",
       "10. 29\n",
       "11. 12\n",
       "12. 13\n",
       "13. 11\n",
       "14. 6\n",
       "15. 5\n",
       "16. 10\n",
       "17. 25\n",
       "18. 30\n",
       "19. 1\n",
       "20. 2\n",
       "21. 4\n",
       "22. 32\n",
       "23. 21\n",
       "24. 3\n",
       "25. 9\n",
       "26. 8\n",
       "27. 27\n",
       "28. 26\n",
       "29. 19\n",
       "30. 28\n",
       "31. 18\n",
       "32. 20\n",
       "\n",
       "\n"
      ],
      "text/plain": [
       " [1] 15 16 24  7 17 31 14 23 22 29 12 13 11  6  5 10 25 30  1  2  4 32 21  3  9\n",
       "[26]  8 27 26 19 28 18 20"
      ]
     },
     "metadata": {},
     "output_type": "display_data"
    },
    {
     "data": {
      "text/html": [
       "<style>\n",
       ".list-inline {list-style: none; margin:0; padding: 0}\n",
       ".list-inline>li {display: inline-block}\n",
       ".list-inline>li:not(:last-child)::after {content: \"\\00b7\"; padding: 0 .5ex}\n",
       "</style>\n",
       "<ol class=list-inline><li>160</li><li>160</li><li>108</li><li>258</li><li>360</li><li>225</li><li>360</li><li>146.7</li><li>140.8</li><li>167.6</li><li>167.6</li><li>275.8</li><li>275.8</li><li>275.8</li><li>472</li><li>460</li><li>440</li><li>78.7</li><li>75.7</li><li>71.1</li><li>120.1</li><li>318</li><li>304</li><li>350</li><li>400</li><li>79</li><li>120.3</li><li>95.1</li><li>351</li><li>145</li><li>301</li><li>121</li></ol>\n"
      ],
      "text/latex": [
       "\\begin{enumerate*}\n",
       "\\item 160\n",
       "\\item 160\n",
       "\\item 108\n",
       "\\item 258\n",
       "\\item 360\n",
       "\\item 225\n",
       "\\item 360\n",
       "\\item 146.7\n",
       "\\item 140.8\n",
       "\\item 167.6\n",
       "\\item 167.6\n",
       "\\item 275.8\n",
       "\\item 275.8\n",
       "\\item 275.8\n",
       "\\item 472\n",
       "\\item 460\n",
       "\\item 440\n",
       "\\item 78.7\n",
       "\\item 75.7\n",
       "\\item 71.1\n",
       "\\item 120.1\n",
       "\\item 318\n",
       "\\item 304\n",
       "\\item 350\n",
       "\\item 400\n",
       "\\item 79\n",
       "\\item 120.3\n",
       "\\item 95.1\n",
       "\\item 351\n",
       "\\item 145\n",
       "\\item 301\n",
       "\\item 121\n",
       "\\end{enumerate*}\n"
      ],
      "text/markdown": [
       "1. 160\n",
       "2. 160\n",
       "3. 108\n",
       "4. 258\n",
       "5. 360\n",
       "6. 225\n",
       "7. 360\n",
       "8. 146.7\n",
       "9. 140.8\n",
       "10. 167.6\n",
       "11. 167.6\n",
       "12. 275.8\n",
       "13. 275.8\n",
       "14. 275.8\n",
       "15. 472\n",
       "16. 460\n",
       "17. 440\n",
       "18. 78.7\n",
       "19. 75.7\n",
       "20. 71.1\n",
       "21. 120.1\n",
       "22. 318\n",
       "23. 304\n",
       "24. 350\n",
       "25. 400\n",
       "26. 79\n",
       "27. 120.3\n",
       "28. 95.1\n",
       "29. 351\n",
       "30. 145\n",
       "31. 301\n",
       "32. 121\n",
       "\n",
       "\n"
      ],
      "text/plain": [
       " [1] 160.0 160.0 108.0 258.0 360.0 225.0 360.0 146.7 140.8 167.6 167.6 275.8\n",
       "[13] 275.8 275.8 472.0 460.0 440.0  78.7  75.7  71.1 120.1 318.0 304.0 350.0\n",
       "[25] 400.0  79.0 120.3  95.1 351.0 145.0 301.0 121.0"
      ]
     },
     "metadata": {},
     "output_type": "display_data"
    }
   ],
   "source": [
    "#order()-displays index of the order from lowest to highest\n",
    "order(mtcars$mpg)\n",
    "index <- order(sort(mtcars$mpg))\n",
    "#order can also be used as an index\n",
    "mtcars$disp[index]"
   ]
  },
  {
   "cell_type": "code",
   "execution_count": 22,
   "id": "558a8464",
   "metadata": {},
   "outputs": [
    {
     "data": {
      "text/html": [
       "472"
      ],
      "text/latex": [
       "472"
      ],
      "text/markdown": [
       "472"
      ],
      "text/plain": [
       "[1] 472"
      ]
     },
     "metadata": {},
     "output_type": "display_data"
    },
    {
     "data": {
      "text/html": [
       "15"
      ],
      "text/latex": [
       "15"
      ],
      "text/markdown": [
       "15"
      ],
      "text/plain": [
       "[1] 15"
      ]
     },
     "metadata": {},
     "output_type": "display_data"
    },
    {
     "data": {
      "text/html": [
       "10.4"
      ],
      "text/latex": [
       "10.4"
      ],
      "text/markdown": [
       "10.4"
      ],
      "text/plain": [
       "[1] 10.4"
      ]
     },
     "metadata": {},
     "output_type": "display_data"
    }
   ],
   "source": [
    "#find max value in row\n",
    "max(mtcars$disp)\n",
    "#find vector with highest value\n",
    "imax<- which.max(mtcars$disp)\n",
    "imax\n",
    "#can be used as index\n",
    "mtcars$mpg[imax]\n",
    "#same can be used for minimum using min"
   ]
  },
  {
   "cell_type": "code",
   "execution_count": 27,
   "id": "1fbaad3a",
   "metadata": {},
   "outputs": [
    {
     "data": {
      "text/html": [
       "<style>\n",
       ".list-inline {list-style: none; margin:0; padding: 0}\n",
       ".list-inline>li {display: inline-block}\n",
       ".list-inline>li:not(:last-child)::after {content: \"\\00b7\"; padding: 0 .5ex}\n",
       "</style>\n",
       "<ol class=list-inline><li>19.5</li><li>19.5</li><li>24.5</li><li>21.5</li><li>15</li><li>14</li><li>4</li><li>26</li><li>24.5</li><li>16.5</li><li>13</li><li>11</li><li>12</li><li>7.5</li><li>1.5</li><li>1.5</li><li>5</li><li>31</li><li>29.5</li><li>32</li><li>23</li><li>9</li><li>7.5</li><li>3</li><li>16.5</li><li>28</li><li>27</li><li>29.5</li><li>10</li><li>18</li><li>6</li><li>21.5</li></ol>\n"
      ],
      "text/latex": [
       "\\begin{enumerate*}\n",
       "\\item 19.5\n",
       "\\item 19.5\n",
       "\\item 24.5\n",
       "\\item 21.5\n",
       "\\item 15\n",
       "\\item 14\n",
       "\\item 4\n",
       "\\item 26\n",
       "\\item 24.5\n",
       "\\item 16.5\n",
       "\\item 13\n",
       "\\item 11\n",
       "\\item 12\n",
       "\\item 7.5\n",
       "\\item 1.5\n",
       "\\item 1.5\n",
       "\\item 5\n",
       "\\item 31\n",
       "\\item 29.5\n",
       "\\item 32\n",
       "\\item 23\n",
       "\\item 9\n",
       "\\item 7.5\n",
       "\\item 3\n",
       "\\item 16.5\n",
       "\\item 28\n",
       "\\item 27\n",
       "\\item 29.5\n",
       "\\item 10\n",
       "\\item 18\n",
       "\\item 6\n",
       "\\item 21.5\n",
       "\\end{enumerate*}\n"
      ],
      "text/markdown": [
       "1. 19.5\n",
       "2. 19.5\n",
       "3. 24.5\n",
       "4. 21.5\n",
       "5. 15\n",
       "6. 14\n",
       "7. 4\n",
       "8. 26\n",
       "9. 24.5\n",
       "10. 16.5\n",
       "11. 13\n",
       "12. 11\n",
       "13. 12\n",
       "14. 7.5\n",
       "15. 1.5\n",
       "16. 1.5\n",
       "17. 5\n",
       "18. 31\n",
       "19. 29.5\n",
       "20. 32\n",
       "21. 23\n",
       "22. 9\n",
       "23. 7.5\n",
       "24. 3\n",
       "25. 16.5\n",
       "26. 28\n",
       "27. 27\n",
       "28. 29.5\n",
       "29. 10\n",
       "30. 18\n",
       "31. 6\n",
       "32. 21.5\n",
       "\n",
       "\n"
      ],
      "text/plain": [
       " [1] 19.5 19.5 24.5 21.5 15.0 14.0  4.0 26.0 24.5 16.5 13.0 11.0 12.0  7.5  1.5\n",
       "[16]  1.5  5.0 31.0 29.5 32.0 23.0  9.0  7.5  3.0 16.5 28.0 27.0 29.5 10.0 18.0\n",
       "[31]  6.0 21.5"
      ]
     },
     "metadata": {},
     "output_type": "display_data"
    }
   ],
   "source": [
    "#rank()-gives postion in order\n",
    "# numb.5 = two numbers share value,skips next number\n",
    "rank(mtcars$mpg)"
   ]
  },
  {
   "cell_type": "code",
   "execution_count": 29,
   "id": "b18bef45",
   "metadata": {},
   "outputs": [],
   "source": [
    "title<-c(2,4,5,1,6,7,8,9,0)"
   ]
  },
  {
   "cell_type": "code",
   "execution_count": 30,
   "id": "71950374",
   "metadata": {},
   "outputs": [
    {
     "data": {
      "text/html": [
       "<style>\n",
       ".list-inline {list-style: none; margin:0; padding: 0}\n",
       ".list-inline>li {display: inline-block}\n",
       ".list-inline>li:not(:last-child)::after {content: \"\\00b7\"; padding: 0 .5ex}\n",
       "</style>\n",
       "<ol class=list-inline><li>3</li><li>4</li><li>5</li><li>2</li><li>6</li><li>7</li><li>8</li><li>9</li><li>1</li></ol>\n"
      ],
      "text/latex": [
       "\\begin{enumerate*}\n",
       "\\item 3\n",
       "\\item 4\n",
       "\\item 5\n",
       "\\item 2\n",
       "\\item 6\n",
       "\\item 7\n",
       "\\item 8\n",
       "\\item 9\n",
       "\\item 1\n",
       "\\end{enumerate*}\n"
      ],
      "text/markdown": [
       "1. 3\n",
       "2. 4\n",
       "3. 5\n",
       "4. 2\n",
       "5. 6\n",
       "6. 7\n",
       "7. 8\n",
       "8. 9\n",
       "9. 1\n",
       "\n",
       "\n"
      ],
      "text/plain": [
       "[1] 3 4 5 2 6 7 8 9 1"
      ]
     },
     "metadata": {},
     "output_type": "display_data"
    }
   ],
   "source": [
    "rank(title)"
   ]
  },
  {
   "cell_type": "code",
   "execution_count": 32,
   "id": "f5f6223e",
   "metadata": {},
   "outputs": [],
   "source": [
    "pop<-order(title)"
   ]
  },
  {
   "cell_type": "code",
   "execution_count": 33,
   "id": "aa8ae9be",
   "metadata": {},
   "outputs": [
    {
     "data": {
      "text/html": [
       "9"
      ],
      "text/latex": [
       "9"
      ],
      "text/markdown": [
       "9"
      ],
      "text/plain": [
       "[1] 9"
      ]
     },
     "metadata": {},
     "output_type": "display_data"
    }
   ],
   "source": [
    "#return the index of the smallest value\n",
    "pop[1]"
   ]
  },
  {
   "cell_type": "code",
   "execution_count": 34,
   "id": "333e1eba",
   "metadata": {},
   "outputs": [],
   "source": [
    "#create or add to dataframe using data.frame()\n",
    "#is.na()-find Missing Data\n",
    "#use ! to drop data from is.na()"
   ]
  },
  {
   "cell_type": "code",
   "execution_count": null,
   "id": "223a573a",
   "metadata": {},
   "outputs": [],
   "source": [
    "# how to obtain the murder rate\n",
    "#murder_rate <- murders$total / murders$population * 100000\n",
    "\n",
    "# ordering the states by murder rate, in decreasing order\n",
    "#murders$state[order(murder_rate, decreasing=TRUE)]"
   ]
  },
  {
   "cell_type": "code",
   "execution_count": 7,
   "id": "4aad10a4",
   "metadata": {},
   "outputs": [
    {
     "name": "stderr",
     "output_type": "stream",
     "text": [
      "── \u001b[1mAttaching core tidyverse packages\u001b[22m ──────────────────────────────────────────────────────────────────────────────────────────────────────────────────── tidyverse 2.0.0 ──\n",
      "\u001b[32m✔\u001b[39m \u001b[34mforcats  \u001b[39m 1.0.0     \u001b[32m✔\u001b[39m \u001b[34mreadr    \u001b[39m 2.1.4\n",
      "\u001b[32m✔\u001b[39m \u001b[34mggplot2  \u001b[39m 3.4.2     \u001b[32m✔\u001b[39m \u001b[34mstringr  \u001b[39m 1.5.0\n",
      "\u001b[32m✔\u001b[39m \u001b[34mlubridate\u001b[39m 1.9.2     \u001b[32m✔\u001b[39m \u001b[34mtibble   \u001b[39m 3.2.1\n",
      "\u001b[32m✔\u001b[39m \u001b[34mpurrr    \u001b[39m 1.0.1     \u001b[32m✔\u001b[39m \u001b[34mtidyr    \u001b[39m 1.3.0\n",
      "── \u001b[1mConflicts\u001b[22m ────────────────────────────────────────────────────────────────────────────────────────────────────────────────────────────────────── tidyverse_conflicts() ──\n",
      "\u001b[31m✖\u001b[39m \u001b[34mdplyr\u001b[39m::\u001b[32mfilter()\u001b[39m masks \u001b[34mstats\u001b[39m::filter()\n",
      "\u001b[31m✖\u001b[39m \u001b[34mdplyr\u001b[39m::\u001b[32mlag()\u001b[39m    masks \u001b[34mstats\u001b[39m::lag()\n",
      "\u001b[36mℹ\u001b[39m Use the conflicted package (\u001b[3m\u001b[34m<http://conflicted.r-lib.org/>\u001b[39m\u001b[23m) to force all conflicts to become errors\n"
     ]
    }
   ],
   "source": [
    "library(tidyverse)"
   ]
  },
  {
   "cell_type": "code",
   "execution_count": 8,
   "id": "b235f3f5",
   "metadata": {
    "scrolled": true
   },
   "outputs": [
    {
     "name": "stderr",
     "output_type": "stream",
     "text": [
      "\u001b[1m\u001b[22mNew names:\n",
      "\u001b[36m•\u001b[39m `` -> `...1`\n",
      "\u001b[1mRows: \u001b[22m\u001b[34m77\u001b[39m \u001b[1mColumns: \u001b[22m\u001b[34m8\u001b[39m\n",
      "\u001b[36m──\u001b[39m \u001b[1mColumn specification\u001b[22m \u001b[36m────────────────────────────────────────────────────────────────────────────────────────────────────────────────────────────────────────────────────\u001b[39m\n",
      "\u001b[1mDelimiter:\u001b[22m \",\"\n",
      "\u001b[31mchr\u001b[39m (2): item, type\n",
      "\u001b[32mdbl\u001b[39m (6): ...1, calories, fat, carb, fiber, protein\n",
      "\n",
      "\u001b[36mℹ\u001b[39m Use `spec()` to retrieve the full column specification for this data.\n",
      "\u001b[36mℹ\u001b[39m Specify the column types or set `show_col_types = FALSE` to quiet this message.\n"
     ]
    }
   ],
   "source": [
    "df=read_csv(\"starbucks.csv\")"
   ]
  },
  {
   "cell_type": "code",
   "execution_count": 14,
   "id": "6dfc74e9",
   "metadata": {},
   "outputs": [
    {
     "data": {
      "text/html": [
       "<table class=\"dataframe\">\n",
       "<caption>A tibble: 6 × 8</caption>\n",
       "<thead>\n",
       "\t<tr><th scope=col>...1</th><th scope=col>item</th><th scope=col>calories</th><th scope=col>fat</th><th scope=col>carb</th><th scope=col>fiber</th><th scope=col>protein</th><th scope=col>type</th></tr>\n",
       "\t<tr><th scope=col>&lt;dbl&gt;</th><th scope=col>&lt;chr&gt;</th><th scope=col>&lt;dbl&gt;</th><th scope=col>&lt;dbl&gt;</th><th scope=col>&lt;dbl&gt;</th><th scope=col>&lt;dbl&gt;</th><th scope=col>&lt;dbl&gt;</th><th scope=col>&lt;chr&gt;</th></tr>\n",
       "</thead>\n",
       "<tbody>\n",
       "\t<tr><td>1</td><td>8-Grain Roll               </td><td>350</td><td> 8</td><td>67</td><td>5</td><td>10</td><td>bakery</td></tr>\n",
       "\t<tr><td>2</td><td>Apple Bran Muffin          </td><td>350</td><td> 9</td><td>64</td><td>7</td><td> 6</td><td>bakery</td></tr>\n",
       "\t<tr><td>3</td><td>Apple Fritter              </td><td>420</td><td>20</td><td>59</td><td>0</td><td> 5</td><td>bakery</td></tr>\n",
       "\t<tr><td>4</td><td>Banana Nut Loaf            </td><td>490</td><td>19</td><td>75</td><td>4</td><td> 7</td><td>bakery</td></tr>\n",
       "\t<tr><td>5</td><td>Birthday Cake Mini Doughnut</td><td>130</td><td> 6</td><td>17</td><td>0</td><td> 0</td><td>bakery</td></tr>\n",
       "\t<tr><td>6</td><td>Blueberry Oat Bar          </td><td>370</td><td>14</td><td>47</td><td>5</td><td> 6</td><td>bakery</td></tr>\n",
       "</tbody>\n",
       "</table>\n"
      ],
      "text/latex": [
       "A tibble: 6 × 8\n",
       "\\begin{tabular}{llllllll}\n",
       " ...1 & item & calories & fat & carb & fiber & protein & type\\\\\n",
       " <dbl> & <chr> & <dbl> & <dbl> & <dbl> & <dbl> & <dbl> & <chr>\\\\\n",
       "\\hline\n",
       "\t 1 & 8-Grain Roll                & 350 &  8 & 67 & 5 & 10 & bakery\\\\\n",
       "\t 2 & Apple Bran Muffin           & 350 &  9 & 64 & 7 &  6 & bakery\\\\\n",
       "\t 3 & Apple Fritter               & 420 & 20 & 59 & 0 &  5 & bakery\\\\\n",
       "\t 4 & Banana Nut Loaf             & 490 & 19 & 75 & 4 &  7 & bakery\\\\\n",
       "\t 5 & Birthday Cake Mini Doughnut & 130 &  6 & 17 & 0 &  0 & bakery\\\\\n",
       "\t 6 & Blueberry Oat Bar           & 370 & 14 & 47 & 5 &  6 & bakery\\\\\n",
       "\\end{tabular}\n"
      ],
      "text/markdown": [
       "\n",
       "A tibble: 6 × 8\n",
       "\n",
       "| ...1 &lt;dbl&gt; | item &lt;chr&gt; | calories &lt;dbl&gt; | fat &lt;dbl&gt; | carb &lt;dbl&gt; | fiber &lt;dbl&gt; | protein &lt;dbl&gt; | type &lt;chr&gt; |\n",
       "|---|---|---|---|---|---|---|---|\n",
       "| 1 | 8-Grain Roll                | 350 |  8 | 67 | 5 | 10 | bakery |\n",
       "| 2 | Apple Bran Muffin           | 350 |  9 | 64 | 7 |  6 | bakery |\n",
       "| 3 | Apple Fritter               | 420 | 20 | 59 | 0 |  5 | bakery |\n",
       "| 4 | Banana Nut Loaf             | 490 | 19 | 75 | 4 |  7 | bakery |\n",
       "| 5 | Birthday Cake Mini Doughnut | 130 |  6 | 17 | 0 |  0 | bakery |\n",
       "| 6 | Blueberry Oat Bar           | 370 | 14 | 47 | 5 |  6 | bakery |\n",
       "\n"
      ],
      "text/plain": [
       "  ...1 item                        calories fat carb fiber protein type  \n",
       "1 1    8-Grain Roll                350       8  67   5     10      bakery\n",
       "2 2    Apple Bran Muffin           350       9  64   7      6      bakery\n",
       "3 3    Apple Fritter               420      20  59   0      5      bakery\n",
       "4 4    Banana Nut Loaf             490      19  75   4      7      bakery\n",
       "5 5    Birthday Cake Mini Doughnut 130       6  17   0      0      bakery\n",
       "6 6    Blueberry Oat Bar           370      14  47   5      6      bakery"
      ]
     },
     "metadata": {},
     "output_type": "display_data"
    }
   ],
   "source": [
    "head(df)"
   ]
  },
  {
   "cell_type": "code",
   "execution_count": 9,
   "id": "63175617",
   "metadata": {},
   "outputs": [],
   "source": [
    "sor=sort(df$fat)"
   ]
  },
  {
   "cell_type": "code",
   "execution_count": 62,
   "id": "5490643f",
   "metadata": {},
   "outputs": [],
   "source": [
    "ord=order(sort(df$carb))"
   ]
  },
  {
   "cell_type": "code",
   "execution_count": 63,
   "id": "f26dbd67",
   "metadata": {},
   "outputs": [],
   "source": [
    "max=which.max(ord)\n",
    "min=which.min(ord)"
   ]
  },
  {
   "cell_type": "code",
   "execution_count": 64,
   "id": "1d6a3c2a",
   "metadata": {},
   "outputs": [
    {
     "data": {
      "text/html": [
       "77"
      ],
      "text/latex": [
       "77"
      ],
      "text/markdown": [
       "77"
      ],
      "text/plain": [
       "[1] 77"
      ]
     },
     "metadata": {},
     "output_type": "display_data"
    },
    {
     "data": {
      "text/html": [
       "1"
      ],
      "text/latex": [
       "1"
      ],
      "text/markdown": [
       "1"
      ],
      "text/plain": [
       "[1] 1"
      ]
     },
     "metadata": {},
     "output_type": "display_data"
    }
   ],
   "source": [
    "max\n",
    "min"
   ]
  },
  {
   "cell_type": "code",
   "execution_count": 65,
   "id": "092d87dc",
   "metadata": {},
   "outputs": [],
   "source": [
    "#finding max and min value with index works better with rank()\n",
    "ranks=rank(df$protein)"
   ]
  },
  {
   "cell_type": "code",
   "execution_count": 66,
   "id": "3ad48eaf",
   "metadata": {},
   "outputs": [],
   "source": [
    "max1=which.max(ranks)\n",
    "min1=which.min(ranks)"
   ]
  },
  {
   "cell_type": "code",
   "execution_count": 67,
   "id": "c3fe384f",
   "metadata": {},
   "outputs": [
    {
     "data": {
      "text/html": [
       "74"
      ],
      "text/latex": [
       "74"
      ],
      "text/markdown": [
       "74"
      ],
      "text/plain": [
       "[1] 74"
      ]
     },
     "metadata": {},
     "output_type": "display_data"
    },
    {
     "data": {
      "text/html": [
       "5"
      ],
      "text/latex": [
       "5"
      ],
      "text/markdown": [
       "5"
      ],
      "text/plain": [
       "[1] 5"
      ]
     },
     "metadata": {},
     "output_type": "display_data"
    }
   ],
   "source": [
    "max1\n",
    "min1"
   ]
  },
  {
   "cell_type": "code",
   "execution_count": 68,
   "id": "5f018353",
   "metadata": {},
   "outputs": [
    {
     "data": {
      "text/html": [
       "'Strawberry &amp; Blueberry Yogurt Parfait'"
      ],
      "text/latex": [
       "'Strawberry \\& Blueberry Yogurt Parfait'"
      ],
      "text/markdown": [
       "'Strawberry &amp; Blueberry Yogurt Parfait'"
      ],
      "text/plain": [
       "[1] \"Strawberry & Blueberry Yogurt Parfait\""
      ]
     },
     "metadata": {},
     "output_type": "display_data"
    },
    {
     "data": {
      "text/html": [
       "'8-Grain Roll'"
      ],
      "text/latex": [
       "'8-Grain Roll'"
      ],
      "text/markdown": [
       "'8-Grain Roll'"
      ],
      "text/plain": [
       "[1] \"8-Grain Roll\""
      ]
     },
     "metadata": {},
     "output_type": "display_data"
    }
   ],
   "source": [
    "df$item[max]\n",
    "df$item[min]"
   ]
  },
  {
   "cell_type": "code",
   "execution_count": 69,
   "id": "b399fa14",
   "metadata": {},
   "outputs": [
    {
     "data": {
      "text/html": [
       "'Turkey &amp; Swiss Sandwich'"
      ],
      "text/latex": [
       "'Turkey \\& Swiss Sandwich'"
      ],
      "text/markdown": [
       "'Turkey &amp; Swiss Sandwich'"
      ],
      "text/plain": [
       "[1] \"Turkey & Swiss Sandwich\""
      ]
     },
     "metadata": {},
     "output_type": "display_data"
    },
    {
     "data": {
      "text/html": [
       "'Birthday Cake Mini Doughnut'"
      ],
      "text/latex": [
       "'Birthday Cake Mini Doughnut'"
      ],
      "text/markdown": [
       "'Birthday Cake Mini Doughnut'"
      ],
      "text/plain": [
       "[1] \"Birthday Cake Mini Doughnut\""
      ]
     },
     "metadata": {},
     "output_type": "display_data"
    }
   ],
   "source": [
    "df$item[max1]\n",
    "df$item[min1]"
   ]
  },
  {
   "cell_type": "code",
   "execution_count": 70,
   "id": "179b84c4",
   "metadata": {},
   "outputs": [
    {
     "data": {
      "text/html": [
       "<table class=\"dataframe\">\n",
       "<caption>A spec_tbl_df: 77 × 8</caption>\n",
       "<thead>\n",
       "\t<tr><th scope=col>...1</th><th scope=col>item</th><th scope=col>calories</th><th scope=col>fat</th><th scope=col>carb</th><th scope=col>fiber</th><th scope=col>protein</th><th scope=col>type</th></tr>\n",
       "\t<tr><th scope=col>&lt;dbl&gt;</th><th scope=col>&lt;chr&gt;</th><th scope=col>&lt;dbl&gt;</th><th scope=col>&lt;dbl&gt;</th><th scope=col>&lt;dbl&gt;</th><th scope=col>&lt;dbl&gt;</th><th scope=col>&lt;dbl&gt;</th><th scope=col>&lt;chr&gt;</th></tr>\n",
       "</thead>\n",
       "<tbody>\n",
       "\t<tr><td> 1</td><td>8-Grain Roll                    </td><td>350</td><td> 8</td><td>67</td><td>5</td><td>10</td><td>bakery</td></tr>\n",
       "\t<tr><td> 2</td><td>Apple Bran Muffin               </td><td>350</td><td> 9</td><td>64</td><td>7</td><td> 6</td><td>bakery</td></tr>\n",
       "\t<tr><td> 3</td><td>Apple Fritter                   </td><td>420</td><td>20</td><td>59</td><td>0</td><td> 5</td><td>bakery</td></tr>\n",
       "\t<tr><td> 4</td><td>Banana Nut Loaf                 </td><td>490</td><td>19</td><td>75</td><td>4</td><td> 7</td><td>bakery</td></tr>\n",
       "\t<tr><td> 5</td><td>Birthday Cake Mini Doughnut     </td><td>130</td><td> 6</td><td>17</td><td>0</td><td> 0</td><td>bakery</td></tr>\n",
       "\t<tr><td> 6</td><td>Blueberry Oat Bar               </td><td>370</td><td>14</td><td>47</td><td>5</td><td> 6</td><td>bakery</td></tr>\n",
       "\t<tr><td> 7</td><td>Blueberry Scone                 </td><td>460</td><td>22</td><td>61</td><td>2</td><td> 7</td><td>bakery</td></tr>\n",
       "\t<tr><td> 8</td><td>Bountiful Blueberry Muffin      </td><td>370</td><td>14</td><td>55</td><td>0</td><td> 6</td><td>bakery</td></tr>\n",
       "\t<tr><td> 9</td><td>Butter Croissant                </td><td>310</td><td>18</td><td>32</td><td>0</td><td> 5</td><td>bakery</td></tr>\n",
       "\t<tr><td>10</td><td>Cheese Danish                   </td><td>420</td><td>25</td><td>39</td><td>0</td><td> 7</td><td>bakery</td></tr>\n",
       "\t<tr><td>11</td><td>Chocolate Chunk Cookie          </td><td>380</td><td>17</td><td>51</td><td>2</td><td> 4</td><td>bakery</td></tr>\n",
       "\t<tr><td>12</td><td>Chocolate Cinnamon Bread        </td><td>320</td><td>12</td><td>53</td><td>3</td><td> 6</td><td>bakery</td></tr>\n",
       "\t<tr><td>13</td><td>Chocolate Croissant             </td><td>300</td><td>17</td><td>34</td><td>2</td><td> 5</td><td>bakery</td></tr>\n",
       "\t<tr><td>14</td><td>Chocolate Old-Fashioned Doughnut</td><td>420</td><td>21</td><td>57</td><td>2</td><td> 5</td><td>bakery</td></tr>\n",
       "\t<tr><td>15</td><td>Chonga Bagel                    </td><td>310</td><td> 5</td><td>52</td><td>3</td><td>12</td><td>bakery</td></tr>\n",
       "\t<tr><td>16</td><td>Cinnamon Chip Scone             </td><td>480</td><td>18</td><td>70</td><td>3</td><td> 7</td><td>bakery</td></tr>\n",
       "\t<tr><td>17</td><td>Cranberry Orange Scone          </td><td>490</td><td>18</td><td>73</td><td>2</td><td> 8</td><td>bakery</td></tr>\n",
       "\t<tr><td>18</td><td>Double Chocolate Brownie        </td><td>410</td><td>24</td><td>46</td><td>3</td><td> 6</td><td>bakery</td></tr>\n",
       "\t<tr><td>19</td><td>Double Fudge Mini Doughnut      </td><td>130</td><td> 7</td><td>16</td><td>0</td><td> 0</td><td>bakery</td></tr>\n",
       "\t<tr><td>20</td><td>Everything with Cheese Bagel    </td><td>280</td><td> 2</td><td>56</td><td>2</td><td>10</td><td>bakery</td></tr>\n",
       "\t<tr><td>21</td><td>Ginger Molasses Cookie          </td><td>360</td><td>12</td><td>58</td><td>0</td><td> 3</td><td>bakery</td></tr>\n",
       "\t<tr><td>22</td><td>Iced Lemon Pound Cake           </td><td>490</td><td>23</td><td>67</td><td>0</td><td> 5</td><td>bakery</td></tr>\n",
       "\t<tr><td>23</td><td>Mallorca Sweet Bread            </td><td>420</td><td>25</td><td>42</td><td>0</td><td> 7</td><td>bakery</td></tr>\n",
       "\t<tr><td>24</td><td>Maple Oat Pecan Scone           </td><td>440</td><td>18</td><td>59</td><td>3</td><td> 8</td><td>bakery</td></tr>\n",
       "\t<tr><td>25</td><td>Marble Pound Cake               </td><td>350</td><td>13</td><td>54</td><td>0</td><td> 6</td><td>bakery</td></tr>\n",
       "\t<tr><td>26</td><td>Marshmallow Dream Bar           </td><td>210</td><td> 4</td><td>43</td><td>0</td><td> 0</td><td>bakery</td></tr>\n",
       "\t<tr><td>27</td><td>Morning Bun                     </td><td>350</td><td>16</td><td>45</td><td>2</td><td> 6</td><td>bakery</td></tr>\n",
       "\t<tr><td>28</td><td>Multigrain Bagel                </td><td>300</td><td> 3</td><td>60</td><td>6</td><td>15</td><td>bakery</td></tr>\n",
       "\t<tr><td>29</td><td>Old-Fashioned Glazed Doughnut   </td><td>420</td><td>21</td><td>57</td><td>0</td><td> 4</td><td>bakery</td></tr>\n",
       "\t<tr><td>30</td><td>Outrageous Oatmeal Cookie       </td><td>370</td><td>14</td><td>56</td><td>3</td><td> 5</td><td>bakery</td></tr>\n",
       "\t<tr><td>⋮</td><td>⋮</td><td>⋮</td><td>⋮</td><td>⋮</td><td>⋮</td><td>⋮</td><td>⋮</td></tr>\n",
       "\t<tr><td>48</td><td>Sesame Noodles                                         </td><td>350</td><td>11.0</td><td>50</td><td>6</td><td>15</td><td>bistro box   </td></tr>\n",
       "\t<tr><td>49</td><td>Tuna Salad                                             </td><td>380</td><td>21.0</td><td>25</td><td>5</td><td>23</td><td>bistro box   </td></tr>\n",
       "\t<tr><td>50</td><td>Apple Pie                                              </td><td>180</td><td> 7.0</td><td>27</td><td>0</td><td> 2</td><td>petite       </td></tr>\n",
       "\t<tr><td>51</td><td>Birthday Cake Pop                                      </td><td>170</td><td> 9.0</td><td>22</td><td>0</td><td> 0</td><td>petite       </td></tr>\n",
       "\t<tr><td>52</td><td>Brown Sugar Walnut Tart                                </td><td>190</td><td>12.0</td><td>24</td><td>0</td><td> 2</td><td>petite       </td></tr>\n",
       "\t<tr><td>53</td><td>Cherry Pie                                             </td><td>170</td><td> 7.0</td><td>24</td><td>0</td><td> 2</td><td>petite       </td></tr>\n",
       "\t<tr><td>54</td><td>Chocolate Creme Whoopie Pie                            </td><td>190</td><td>11.0</td><td>23</td><td>0</td><td> 0</td><td>petite       </td></tr>\n",
       "\t<tr><td>55</td><td>Chocolate Hazelnut Tart                                </td><td>180</td><td>10.0</td><td>23</td><td>0</td><td> 2</td><td>petite       </td></tr>\n",
       "\t<tr><td>56</td><td>Raspberry Truffle Cake Pop                             </td><td>160</td><td> 8.0</td><td>24</td><td>0</td><td> 2</td><td>petite       </td></tr>\n",
       "\t<tr><td>57</td><td>Red Velvet Whoopie Pie                                 </td><td>190</td><td>11.0</td><td>21</td><td>0</td><td> 0</td><td>petite       </td></tr>\n",
       "\t<tr><td>58</td><td>Tiramisu Cake Pop                                      </td><td>170</td><td> 9.0</td><td>22</td><td>0</td><td> 0</td><td>petite       </td></tr>\n",
       "\t<tr><td>59</td><td><span style=white-space:pre-wrap>Bacon &amp; Gouda Artisan Breakfast Sandwich               </span></td><td>350</td><td>18.0</td><td>30</td><td>0</td><td>17</td><td>hot breakfast</td></tr>\n",
       "\t<tr><td>60</td><td>Chicken Sausage Breakfast Wrap                         </td><td>300</td><td>10.0</td><td>33</td><td>5</td><td>14</td><td>hot breakfast</td></tr>\n",
       "\t<tr><td>61</td><td><span style=white-space:pre-wrap>Ham &amp; Cheddar Artisan Breakfast Sandwich               </span></td><td>350</td><td>16.0</td><td>31</td><td>0</td><td>20</td><td>hot breakfast</td></tr>\n",
       "\t<tr><td>62</td><td><span style=white-space:pre-wrap>Sausage &amp; Cheddar Classic Breakfast Sandwich           </span></td><td>500</td><td>28.0</td><td>41</td><td>0</td><td>19</td><td>hot breakfast</td></tr>\n",
       "\t<tr><td>63</td><td><span style=white-space:pre-wrap>Spinach &amp; Feta Breakfast Wrap                          </span></td><td>290</td><td>10.0</td><td>33</td><td>6</td><td>19</td><td>hot breakfast</td></tr>\n",
       "\t<tr><td>64</td><td>Starbucks Perfect Oatmeal                              </td><td>140</td><td> 2.5</td><td>25</td><td>4</td><td> 5</td><td>hot breakfast</td></tr>\n",
       "\t<tr><td>65</td><td>Turkey Bacon &amp; White Cheddar Classic Breakfast Sandwich</td><td>320</td><td> 7.0</td><td>43</td><td>3</td><td>18</td><td>hot breakfast</td></tr>\n",
       "\t<tr><td>66</td><td><span style=white-space:pre-wrap>Veggie &amp; Monterey Jack Artisan Breakfast Sandwich      </span></td><td>350</td><td>18.0</td><td>30</td><td>0</td><td>17</td><td>hot breakfast</td></tr>\n",
       "\t<tr><td>67</td><td>Deluxe Fruit Blend                                     </td><td> 80</td><td> 0.0</td><td>20</td><td>2</td><td> 0</td><td>salad        </td></tr>\n",
       "\t<tr><td>68</td><td>Chicken Santa Fe Panini                                </td><td>400</td><td>11.0</td><td>47</td><td>2</td><td>26</td><td>sandwich     </td></tr>\n",
       "\t<tr><td>69</td><td>Egg Salad Sandwich                                     </td><td>460</td><td>27.0</td><td>37</td><td>5</td><td>22</td><td>sandwich     </td></tr>\n",
       "\t<tr><td>70</td><td><span style=white-space:pre-wrap>Ham &amp; Swiss Panini                                     </span></td><td>360</td><td> 9.0</td><td>43</td><td>2</td><td>28</td><td><span style=white-space:pre-wrap>sandwich     </span></td></tr>\n",
       "\t<tr><td>71</td><td><span style=white-space:pre-wrap>Roasted Tomato &amp; Mozzarella Panini                     </span></td><td>390</td><td>18.0</td><td>44</td><td>3</td><td>15</td><td><span style=white-space:pre-wrap>sandwich     </span></td></tr>\n",
       "\t<tr><td>72</td><td>Roasted Vegetable Panini                               </td><td>350</td><td>12.0</td><td>48</td><td>4</td><td>13</td><td>sandwich     </td></tr>\n",
       "\t<tr><td>73</td><td>Tarragon Chicken Salad Sandwich                        </td><td>420</td><td>13.0</td><td>46</td><td>6</td><td>32</td><td>sandwich     </td></tr>\n",
       "\t<tr><td>74</td><td><span style=white-space:pre-wrap>Turkey &amp; Swiss Sandwich                                </span></td><td>390</td><td>13.0</td><td>36</td><td>2</td><td>34</td><td><span style=white-space:pre-wrap>sandwich     </span></td></tr>\n",
       "\t<tr><td>75</td><td>Greek Yogurt Honey Parfait                             </td><td>300</td><td>12.0</td><td>44</td><td>0</td><td> 8</td><td>parfait      </td></tr>\n",
       "\t<tr><td>76</td><td>Peach Raspberry Yogurt Parfait                         </td><td>300</td><td> 4.0</td><td>57</td><td>3</td><td>10</td><td>parfait      </td></tr>\n",
       "\t<tr><td>77</td><td><span style=white-space:pre-wrap>Strawberry &amp; Blueberry Yogurt Parfait                  </span></td><td>300</td><td> 3.5</td><td>60</td><td>3</td><td> 7</td><td><span style=white-space:pre-wrap>parfait      </span></td></tr>\n",
       "</tbody>\n",
       "</table>\n"
      ],
      "text/latex": [
       "A spec\\_tbl\\_df: 77 × 8\n",
       "\\begin{tabular}{llllllll}\n",
       " ...1 & item & calories & fat & carb & fiber & protein & type\\\\\n",
       " <dbl> & <chr> & <dbl> & <dbl> & <dbl> & <dbl> & <dbl> & <chr>\\\\\n",
       "\\hline\n",
       "\t  1 & 8-Grain Roll                     & 350 &  8 & 67 & 5 & 10 & bakery\\\\\n",
       "\t  2 & Apple Bran Muffin                & 350 &  9 & 64 & 7 &  6 & bakery\\\\\n",
       "\t  3 & Apple Fritter                    & 420 & 20 & 59 & 0 &  5 & bakery\\\\\n",
       "\t  4 & Banana Nut Loaf                  & 490 & 19 & 75 & 4 &  7 & bakery\\\\\n",
       "\t  5 & Birthday Cake Mini Doughnut      & 130 &  6 & 17 & 0 &  0 & bakery\\\\\n",
       "\t  6 & Blueberry Oat Bar                & 370 & 14 & 47 & 5 &  6 & bakery\\\\\n",
       "\t  7 & Blueberry Scone                  & 460 & 22 & 61 & 2 &  7 & bakery\\\\\n",
       "\t  8 & Bountiful Blueberry Muffin       & 370 & 14 & 55 & 0 &  6 & bakery\\\\\n",
       "\t  9 & Butter Croissant                 & 310 & 18 & 32 & 0 &  5 & bakery\\\\\n",
       "\t 10 & Cheese Danish                    & 420 & 25 & 39 & 0 &  7 & bakery\\\\\n",
       "\t 11 & Chocolate Chunk Cookie           & 380 & 17 & 51 & 2 &  4 & bakery\\\\\n",
       "\t 12 & Chocolate Cinnamon Bread         & 320 & 12 & 53 & 3 &  6 & bakery\\\\\n",
       "\t 13 & Chocolate Croissant              & 300 & 17 & 34 & 2 &  5 & bakery\\\\\n",
       "\t 14 & Chocolate Old-Fashioned Doughnut & 420 & 21 & 57 & 2 &  5 & bakery\\\\\n",
       "\t 15 & Chonga Bagel                     & 310 &  5 & 52 & 3 & 12 & bakery\\\\\n",
       "\t 16 & Cinnamon Chip Scone              & 480 & 18 & 70 & 3 &  7 & bakery\\\\\n",
       "\t 17 & Cranberry Orange Scone           & 490 & 18 & 73 & 2 &  8 & bakery\\\\\n",
       "\t 18 & Double Chocolate Brownie         & 410 & 24 & 46 & 3 &  6 & bakery\\\\\n",
       "\t 19 & Double Fudge Mini Doughnut       & 130 &  7 & 16 & 0 &  0 & bakery\\\\\n",
       "\t 20 & Everything with Cheese Bagel     & 280 &  2 & 56 & 2 & 10 & bakery\\\\\n",
       "\t 21 & Ginger Molasses Cookie           & 360 & 12 & 58 & 0 &  3 & bakery\\\\\n",
       "\t 22 & Iced Lemon Pound Cake            & 490 & 23 & 67 & 0 &  5 & bakery\\\\\n",
       "\t 23 & Mallorca Sweet Bread             & 420 & 25 & 42 & 0 &  7 & bakery\\\\\n",
       "\t 24 & Maple Oat Pecan Scone            & 440 & 18 & 59 & 3 &  8 & bakery\\\\\n",
       "\t 25 & Marble Pound Cake                & 350 & 13 & 54 & 0 &  6 & bakery\\\\\n",
       "\t 26 & Marshmallow Dream Bar            & 210 &  4 & 43 & 0 &  0 & bakery\\\\\n",
       "\t 27 & Morning Bun                      & 350 & 16 & 45 & 2 &  6 & bakery\\\\\n",
       "\t 28 & Multigrain Bagel                 & 300 &  3 & 60 & 6 & 15 & bakery\\\\\n",
       "\t 29 & Old-Fashioned Glazed Doughnut    & 420 & 21 & 57 & 0 &  4 & bakery\\\\\n",
       "\t 30 & Outrageous Oatmeal Cookie        & 370 & 14 & 56 & 3 &  5 & bakery\\\\\n",
       "\t ⋮ & ⋮ & ⋮ & ⋮ & ⋮ & ⋮ & ⋮ & ⋮\\\\\n",
       "\t 48 & Sesame Noodles                                          & 350 & 11.0 & 50 & 6 & 15 & bistro box   \\\\\n",
       "\t 49 & Tuna Salad                                              & 380 & 21.0 & 25 & 5 & 23 & bistro box   \\\\\n",
       "\t 50 & Apple Pie                                               & 180 &  7.0 & 27 & 0 &  2 & petite       \\\\\n",
       "\t 51 & Birthday Cake Pop                                       & 170 &  9.0 & 22 & 0 &  0 & petite       \\\\\n",
       "\t 52 & Brown Sugar Walnut Tart                                 & 190 & 12.0 & 24 & 0 &  2 & petite       \\\\\n",
       "\t 53 & Cherry Pie                                              & 170 &  7.0 & 24 & 0 &  2 & petite       \\\\\n",
       "\t 54 & Chocolate Creme Whoopie Pie                             & 190 & 11.0 & 23 & 0 &  0 & petite       \\\\\n",
       "\t 55 & Chocolate Hazelnut Tart                                 & 180 & 10.0 & 23 & 0 &  2 & petite       \\\\\n",
       "\t 56 & Raspberry Truffle Cake Pop                              & 160 &  8.0 & 24 & 0 &  2 & petite       \\\\\n",
       "\t 57 & Red Velvet Whoopie Pie                                  & 190 & 11.0 & 21 & 0 &  0 & petite       \\\\\n",
       "\t 58 & Tiramisu Cake Pop                                       & 170 &  9.0 & 22 & 0 &  0 & petite       \\\\\n",
       "\t 59 & Bacon \\& Gouda Artisan Breakfast Sandwich                & 350 & 18.0 & 30 & 0 & 17 & hot breakfast\\\\\n",
       "\t 60 & Chicken Sausage Breakfast Wrap                          & 300 & 10.0 & 33 & 5 & 14 & hot breakfast\\\\\n",
       "\t 61 & Ham \\& Cheddar Artisan Breakfast Sandwich                & 350 & 16.0 & 31 & 0 & 20 & hot breakfast\\\\\n",
       "\t 62 & Sausage \\& Cheddar Classic Breakfast Sandwich            & 500 & 28.0 & 41 & 0 & 19 & hot breakfast\\\\\n",
       "\t 63 & Spinach \\& Feta Breakfast Wrap                           & 290 & 10.0 & 33 & 6 & 19 & hot breakfast\\\\\n",
       "\t 64 & Starbucks Perfect Oatmeal                               & 140 &  2.5 & 25 & 4 &  5 & hot breakfast\\\\\n",
       "\t 65 & Turkey Bacon \\& White Cheddar Classic Breakfast Sandwich & 320 &  7.0 & 43 & 3 & 18 & hot breakfast\\\\\n",
       "\t 66 & Veggie \\& Monterey Jack Artisan Breakfast Sandwich       & 350 & 18.0 & 30 & 0 & 17 & hot breakfast\\\\\n",
       "\t 67 & Deluxe Fruit Blend                                      &  80 &  0.0 & 20 & 2 &  0 & salad        \\\\\n",
       "\t 68 & Chicken Santa Fe Panini                                 & 400 & 11.0 & 47 & 2 & 26 & sandwich     \\\\\n",
       "\t 69 & Egg Salad Sandwich                                      & 460 & 27.0 & 37 & 5 & 22 & sandwich     \\\\\n",
       "\t 70 & Ham \\& Swiss Panini                                      & 360 &  9.0 & 43 & 2 & 28 & sandwich     \\\\\n",
       "\t 71 & Roasted Tomato \\& Mozzarella Panini                      & 390 & 18.0 & 44 & 3 & 15 & sandwich     \\\\\n",
       "\t 72 & Roasted Vegetable Panini                                & 350 & 12.0 & 48 & 4 & 13 & sandwich     \\\\\n",
       "\t 73 & Tarragon Chicken Salad Sandwich                         & 420 & 13.0 & 46 & 6 & 32 & sandwich     \\\\\n",
       "\t 74 & Turkey \\& Swiss Sandwich                                 & 390 & 13.0 & 36 & 2 & 34 & sandwich     \\\\\n",
       "\t 75 & Greek Yogurt Honey Parfait                              & 300 & 12.0 & 44 & 0 &  8 & parfait      \\\\\n",
       "\t 76 & Peach Raspberry Yogurt Parfait                          & 300 &  4.0 & 57 & 3 & 10 & parfait      \\\\\n",
       "\t 77 & Strawberry \\& Blueberry Yogurt Parfait                   & 300 &  3.5 & 60 & 3 &  7 & parfait      \\\\\n",
       "\\end{tabular}\n"
      ],
      "text/markdown": [
       "\n",
       "A spec_tbl_df: 77 × 8\n",
       "\n",
       "| ...1 &lt;dbl&gt; | item &lt;chr&gt; | calories &lt;dbl&gt; | fat &lt;dbl&gt; | carb &lt;dbl&gt; | fiber &lt;dbl&gt; | protein &lt;dbl&gt; | type &lt;chr&gt; |\n",
       "|---|---|---|---|---|---|---|---|\n",
       "|  1 | 8-Grain Roll                     | 350 |  8 | 67 | 5 | 10 | bakery |\n",
       "|  2 | Apple Bran Muffin                | 350 |  9 | 64 | 7 |  6 | bakery |\n",
       "|  3 | Apple Fritter                    | 420 | 20 | 59 | 0 |  5 | bakery |\n",
       "|  4 | Banana Nut Loaf                  | 490 | 19 | 75 | 4 |  7 | bakery |\n",
       "|  5 | Birthday Cake Mini Doughnut      | 130 |  6 | 17 | 0 |  0 | bakery |\n",
       "|  6 | Blueberry Oat Bar                | 370 | 14 | 47 | 5 |  6 | bakery |\n",
       "|  7 | Blueberry Scone                  | 460 | 22 | 61 | 2 |  7 | bakery |\n",
       "|  8 | Bountiful Blueberry Muffin       | 370 | 14 | 55 | 0 |  6 | bakery |\n",
       "|  9 | Butter Croissant                 | 310 | 18 | 32 | 0 |  5 | bakery |\n",
       "| 10 | Cheese Danish                    | 420 | 25 | 39 | 0 |  7 | bakery |\n",
       "| 11 | Chocolate Chunk Cookie           | 380 | 17 | 51 | 2 |  4 | bakery |\n",
       "| 12 | Chocolate Cinnamon Bread         | 320 | 12 | 53 | 3 |  6 | bakery |\n",
       "| 13 | Chocolate Croissant              | 300 | 17 | 34 | 2 |  5 | bakery |\n",
       "| 14 | Chocolate Old-Fashioned Doughnut | 420 | 21 | 57 | 2 |  5 | bakery |\n",
       "| 15 | Chonga Bagel                     | 310 |  5 | 52 | 3 | 12 | bakery |\n",
       "| 16 | Cinnamon Chip Scone              | 480 | 18 | 70 | 3 |  7 | bakery |\n",
       "| 17 | Cranberry Orange Scone           | 490 | 18 | 73 | 2 |  8 | bakery |\n",
       "| 18 | Double Chocolate Brownie         | 410 | 24 | 46 | 3 |  6 | bakery |\n",
       "| 19 | Double Fudge Mini Doughnut       | 130 |  7 | 16 | 0 |  0 | bakery |\n",
       "| 20 | Everything with Cheese Bagel     | 280 |  2 | 56 | 2 | 10 | bakery |\n",
       "| 21 | Ginger Molasses Cookie           | 360 | 12 | 58 | 0 |  3 | bakery |\n",
       "| 22 | Iced Lemon Pound Cake            | 490 | 23 | 67 | 0 |  5 | bakery |\n",
       "| 23 | Mallorca Sweet Bread             | 420 | 25 | 42 | 0 |  7 | bakery |\n",
       "| 24 | Maple Oat Pecan Scone            | 440 | 18 | 59 | 3 |  8 | bakery |\n",
       "| 25 | Marble Pound Cake                | 350 | 13 | 54 | 0 |  6 | bakery |\n",
       "| 26 | Marshmallow Dream Bar            | 210 |  4 | 43 | 0 |  0 | bakery |\n",
       "| 27 | Morning Bun                      | 350 | 16 | 45 | 2 |  6 | bakery |\n",
       "| 28 | Multigrain Bagel                 | 300 |  3 | 60 | 6 | 15 | bakery |\n",
       "| 29 | Old-Fashioned Glazed Doughnut    | 420 | 21 | 57 | 0 |  4 | bakery |\n",
       "| 30 | Outrageous Oatmeal Cookie        | 370 | 14 | 56 | 3 |  5 | bakery |\n",
       "| ⋮ | ⋮ | ⋮ | ⋮ | ⋮ | ⋮ | ⋮ | ⋮ |\n",
       "| 48 | Sesame Noodles                                          | 350 | 11.0 | 50 | 6 | 15 | bistro box    |\n",
       "| 49 | Tuna Salad                                              | 380 | 21.0 | 25 | 5 | 23 | bistro box    |\n",
       "| 50 | Apple Pie                                               | 180 |  7.0 | 27 | 0 |  2 | petite        |\n",
       "| 51 | Birthday Cake Pop                                       | 170 |  9.0 | 22 | 0 |  0 | petite        |\n",
       "| 52 | Brown Sugar Walnut Tart                                 | 190 | 12.0 | 24 | 0 |  2 | petite        |\n",
       "| 53 | Cherry Pie                                              | 170 |  7.0 | 24 | 0 |  2 | petite        |\n",
       "| 54 | Chocolate Creme Whoopie Pie                             | 190 | 11.0 | 23 | 0 |  0 | petite        |\n",
       "| 55 | Chocolate Hazelnut Tart                                 | 180 | 10.0 | 23 | 0 |  2 | petite        |\n",
       "| 56 | Raspberry Truffle Cake Pop                              | 160 |  8.0 | 24 | 0 |  2 | petite        |\n",
       "| 57 | Red Velvet Whoopie Pie                                  | 190 | 11.0 | 21 | 0 |  0 | petite        |\n",
       "| 58 | Tiramisu Cake Pop                                       | 170 |  9.0 | 22 | 0 |  0 | petite        |\n",
       "| 59 | Bacon &amp; Gouda Artisan Breakfast Sandwich                | 350 | 18.0 | 30 | 0 | 17 | hot breakfast |\n",
       "| 60 | Chicken Sausage Breakfast Wrap                          | 300 | 10.0 | 33 | 5 | 14 | hot breakfast |\n",
       "| 61 | Ham &amp; Cheddar Artisan Breakfast Sandwich                | 350 | 16.0 | 31 | 0 | 20 | hot breakfast |\n",
       "| 62 | Sausage &amp; Cheddar Classic Breakfast Sandwich            | 500 | 28.0 | 41 | 0 | 19 | hot breakfast |\n",
       "| 63 | Spinach &amp; Feta Breakfast Wrap                           | 290 | 10.0 | 33 | 6 | 19 | hot breakfast |\n",
       "| 64 | Starbucks Perfect Oatmeal                               | 140 |  2.5 | 25 | 4 |  5 | hot breakfast |\n",
       "| 65 | Turkey Bacon &amp; White Cheddar Classic Breakfast Sandwich | 320 |  7.0 | 43 | 3 | 18 | hot breakfast |\n",
       "| 66 | Veggie &amp; Monterey Jack Artisan Breakfast Sandwich       | 350 | 18.0 | 30 | 0 | 17 | hot breakfast |\n",
       "| 67 | Deluxe Fruit Blend                                      |  80 |  0.0 | 20 | 2 |  0 | salad         |\n",
       "| 68 | Chicken Santa Fe Panini                                 | 400 | 11.0 | 47 | 2 | 26 | sandwich      |\n",
       "| 69 | Egg Salad Sandwich                                      | 460 | 27.0 | 37 | 5 | 22 | sandwich      |\n",
       "| 70 | Ham &amp; Swiss Panini                                      | 360 |  9.0 | 43 | 2 | 28 | sandwich      |\n",
       "| 71 | Roasted Tomato &amp; Mozzarella Panini                      | 390 | 18.0 | 44 | 3 | 15 | sandwich      |\n",
       "| 72 | Roasted Vegetable Panini                                | 350 | 12.0 | 48 | 4 | 13 | sandwich      |\n",
       "| 73 | Tarragon Chicken Salad Sandwich                         | 420 | 13.0 | 46 | 6 | 32 | sandwich      |\n",
       "| 74 | Turkey &amp; Swiss Sandwich                                 | 390 | 13.0 | 36 | 2 | 34 | sandwich      |\n",
       "| 75 | Greek Yogurt Honey Parfait                              | 300 | 12.0 | 44 | 0 |  8 | parfait       |\n",
       "| 76 | Peach Raspberry Yogurt Parfait                          | 300 |  4.0 | 57 | 3 | 10 | parfait       |\n",
       "| 77 | Strawberry &amp; Blueberry Yogurt Parfait                   | 300 |  3.5 | 60 | 3 |  7 | parfait       |\n",
       "\n"
      ],
      "text/plain": [
       "   ...1 item                                                    calories fat \n",
       "1   1   8-Grain Roll                                            350       8  \n",
       "2   2   Apple Bran Muffin                                       350       9  \n",
       "3   3   Apple Fritter                                           420      20  \n",
       "4   4   Banana Nut Loaf                                         490      19  \n",
       "5   5   Birthday Cake Mini Doughnut                             130       6  \n",
       "6   6   Blueberry Oat Bar                                       370      14  \n",
       "7   7   Blueberry Scone                                         460      22  \n",
       "8   8   Bountiful Blueberry Muffin                              370      14  \n",
       "9   9   Butter Croissant                                        310      18  \n",
       "10 10   Cheese Danish                                           420      25  \n",
       "11 11   Chocolate Chunk Cookie                                  380      17  \n",
       "12 12   Chocolate Cinnamon Bread                                320      12  \n",
       "13 13   Chocolate Croissant                                     300      17  \n",
       "14 14   Chocolate Old-Fashioned Doughnut                        420      21  \n",
       "15 15   Chonga Bagel                                            310       5  \n",
       "16 16   Cinnamon Chip Scone                                     480      18  \n",
       "17 17   Cranberry Orange Scone                                  490      18  \n",
       "18 18   Double Chocolate Brownie                                410      24  \n",
       "19 19   Double Fudge Mini Doughnut                              130       7  \n",
       "20 20   Everything with Cheese Bagel                            280       2  \n",
       "21 21   Ginger Molasses Cookie                                  360      12  \n",
       "22 22   Iced Lemon Pound Cake                                   490      23  \n",
       "23 23   Mallorca Sweet Bread                                    420      25  \n",
       "24 24   Maple Oat Pecan Scone                                   440      18  \n",
       "25 25   Marble Pound Cake                                       350      13  \n",
       "26 26   Marshmallow Dream Bar                                   210       4  \n",
       "27 27   Morning Bun                                             350      16  \n",
       "28 28   Multigrain Bagel                                        300       3  \n",
       "29 29   Old-Fashioned Glazed Doughnut                           420      21  \n",
       "30 30   Outrageous Oatmeal Cookie                               370      14  \n",
       "⋮  ⋮    ⋮                                                       ⋮        ⋮   \n",
       "48 48   Sesame Noodles                                          350      11.0\n",
       "49 49   Tuna Salad                                              380      21.0\n",
       "50 50   Apple Pie                                               180       7.0\n",
       "51 51   Birthday Cake Pop                                       170       9.0\n",
       "52 52   Brown Sugar Walnut Tart                                 190      12.0\n",
       "53 53   Cherry Pie                                              170       7.0\n",
       "54 54   Chocolate Creme Whoopie Pie                             190      11.0\n",
       "55 55   Chocolate Hazelnut Tart                                 180      10.0\n",
       "56 56   Raspberry Truffle Cake Pop                              160       8.0\n",
       "57 57   Red Velvet Whoopie Pie                                  190      11.0\n",
       "58 58   Tiramisu Cake Pop                                       170       9.0\n",
       "59 59   Bacon & Gouda Artisan Breakfast Sandwich                350      18.0\n",
       "60 60   Chicken Sausage Breakfast Wrap                          300      10.0\n",
       "61 61   Ham & Cheddar Artisan Breakfast Sandwich                350      16.0\n",
       "62 62   Sausage & Cheddar Classic Breakfast Sandwich            500      28.0\n",
       "63 63   Spinach & Feta Breakfast Wrap                           290      10.0\n",
       "64 64   Starbucks Perfect Oatmeal                               140       2.5\n",
       "65 65   Turkey Bacon & White Cheddar Classic Breakfast Sandwich 320       7.0\n",
       "66 66   Veggie & Monterey Jack Artisan Breakfast Sandwich       350      18.0\n",
       "67 67   Deluxe Fruit Blend                                       80       0.0\n",
       "68 68   Chicken Santa Fe Panini                                 400      11.0\n",
       "69 69   Egg Salad Sandwich                                      460      27.0\n",
       "70 70   Ham & Swiss Panini                                      360       9.0\n",
       "71 71   Roasted Tomato & Mozzarella Panini                      390      18.0\n",
       "72 72   Roasted Vegetable Panini                                350      12.0\n",
       "73 73   Tarragon Chicken Salad Sandwich                         420      13.0\n",
       "74 74   Turkey & Swiss Sandwich                                 390      13.0\n",
       "75 75   Greek Yogurt Honey Parfait                              300      12.0\n",
       "76 76   Peach Raspberry Yogurt Parfait                          300       4.0\n",
       "77 77   Strawberry & Blueberry Yogurt Parfait                   300       3.5\n",
       "   carb fiber protein type         \n",
       "1  67   5     10      bakery       \n",
       "2  64   7      6      bakery       \n",
       "3  59   0      5      bakery       \n",
       "4  75   4      7      bakery       \n",
       "5  17   0      0      bakery       \n",
       "6  47   5      6      bakery       \n",
       "7  61   2      7      bakery       \n",
       "8  55   0      6      bakery       \n",
       "9  32   0      5      bakery       \n",
       "10 39   0      7      bakery       \n",
       "11 51   2      4      bakery       \n",
       "12 53   3      6      bakery       \n",
       "13 34   2      5      bakery       \n",
       "14 57   2      5      bakery       \n",
       "15 52   3     12      bakery       \n",
       "16 70   3      7      bakery       \n",
       "17 73   2      8      bakery       \n",
       "18 46   3      6      bakery       \n",
       "19 16   0      0      bakery       \n",
       "20 56   2     10      bakery       \n",
       "21 58   0      3      bakery       \n",
       "22 67   0      5      bakery       \n",
       "23 42   0      7      bakery       \n",
       "24 59   3      8      bakery       \n",
       "25 54   0      6      bakery       \n",
       "26 43   0      0      bakery       \n",
       "27 45   2      6      bakery       \n",
       "28 60   6     15      bakery       \n",
       "29 57   0      4      bakery       \n",
       "30 56   3      5      bakery       \n",
       "⋮  ⋮    ⋮     ⋮       ⋮            \n",
       "48 50   6     15      bistro box   \n",
       "49 25   5     23      bistro box   \n",
       "50 27   0      2      petite       \n",
       "51 22   0      0      petite       \n",
       "52 24   0      2      petite       \n",
       "53 24   0      2      petite       \n",
       "54 23   0      0      petite       \n",
       "55 23   0      2      petite       \n",
       "56 24   0      2      petite       \n",
       "57 21   0      0      petite       \n",
       "58 22   0      0      petite       \n",
       "59 30   0     17      hot breakfast\n",
       "60 33   5     14      hot breakfast\n",
       "61 31   0     20      hot breakfast\n",
       "62 41   0     19      hot breakfast\n",
       "63 33   6     19      hot breakfast\n",
       "64 25   4      5      hot breakfast\n",
       "65 43   3     18      hot breakfast\n",
       "66 30   0     17      hot breakfast\n",
       "67 20   2      0      salad        \n",
       "68 47   2     26      sandwich     \n",
       "69 37   5     22      sandwich     \n",
       "70 43   2     28      sandwich     \n",
       "71 44   3     15      sandwich     \n",
       "72 48   4     13      sandwich     \n",
       "73 46   6     32      sandwich     \n",
       "74 36   2     34      sandwich     \n",
       "75 44   0      8      parfait      \n",
       "76 57   3     10      parfait      \n",
       "77 60   3      7      parfait      "
      ]
     },
     "metadata": {},
     "output_type": "display_data"
    }
   ],
   "source": [
    "df"
   ]
  },
  {
   "cell_type": "code",
   "execution_count": 1,
   "id": "454150e8",
   "metadata": {},
   "outputs": [],
   "source": [
    "name <- c(\"Mandi\", \"Amy\", \"Nicole\", \"Olivia\")\n",
    "distance <- c(0.8, 3.1, 2.8, 4.0)\n",
    "time <- c(10, 30, 40, 50)"
   ]
  },
  {
   "cell_type": "code",
   "execution_count": 10,
   "id": "69bfc166",
   "metadata": {},
   "outputs": [
    {
     "data": {
      "text/html": [
       "0.0666666666666667"
      ],
      "text/latex": [
       "0.0666666666666667"
      ],
      "text/markdown": [
       "0.0666666666666667"
      ],
      "text/plain": [
       "[1] 0.06666667"
      ]
     },
     "metadata": {},
     "output_type": "display_data"
    }
   ],
   "source": [
    "distance[4]/60"
   ]
  },
  {
   "cell_type": "code",
   "execution_count": 11,
   "id": "b24dbbf3",
   "metadata": {},
   "outputs": [
    {
     "data": {
      "text/html": [
       "0.833333333333333"
      ],
      "text/latex": [
       "0.833333333333333"
      ],
      "text/markdown": [
       "0.833333333333333"
      ],
      "text/plain": [
       "[1] 0.8333333"
      ]
     },
     "metadata": {},
     "output_type": "display_data"
    }
   ],
   "source": [
    "time[4]/60"
   ]
  },
  {
   "cell_type": "code",
   "execution_count": 24,
   "id": "56f954a0",
   "metadata": {},
   "outputs": [
    {
     "data": {
      "text/html": [
       "<style>\n",
       ".list-inline {list-style: none; margin:0; padding: 0}\n",
       ".list-inline>li {display: inline-block}\n",
       ".list-inline>li:not(:last-child)::after {content: \"\\00b7\"; padding: 0 .5ex}\n",
       "</style>\n",
       "<ol class=list-inline><li>5</li><li>0</li><li>5</li><li>4</li><li>5</li><li>5</li><li>0</li><li>3</li><li>5</li><li>0</li><li>4</li><li>5</li><li>0</li><li>4</li><li>5</li><li>4</li><li>2</li><li>0</li><li>2</li><li>2</li><li>0</li><li>2</li><li>2</li><li>0</li><li>0</li><li>5</li><li>0</li></ol>\n"
      ],
      "text/latex": [
       "\\begin{enumerate*}\n",
       "\\item 5\n",
       "\\item 0\n",
       "\\item 5\n",
       "\\item 4\n",
       "\\item 5\n",
       "\\item 5\n",
       "\\item 0\n",
       "\\item 3\n",
       "\\item 5\n",
       "\\item 0\n",
       "\\item 4\n",
       "\\item 5\n",
       "\\item 0\n",
       "\\item 4\n",
       "\\item 5\n",
       "\\item 4\n",
       "\\item 2\n",
       "\\item 0\n",
       "\\item 2\n",
       "\\item 2\n",
       "\\item 0\n",
       "\\item 2\n",
       "\\item 2\n",
       "\\item 0\n",
       "\\item 0\n",
       "\\item 5\n",
       "\\item 0\n",
       "\\end{enumerate*}\n"
      ],
      "text/markdown": [
       "1. 5\n",
       "2. 0\n",
       "3. 5\n",
       "4. 4\n",
       "5. 5\n",
       "6. 5\n",
       "7. 0\n",
       "8. 3\n",
       "9. 5\n",
       "10. 0\n",
       "11. 4\n",
       "12. 5\n",
       "13. 0\n",
       "14. 4\n",
       "15. 5\n",
       "16. 4\n",
       "17. 2\n",
       "18. 0\n",
       "19. 2\n",
       "20. 2\n",
       "21. 0\n",
       "22. 2\n",
       "23. 2\n",
       "24. 0\n",
       "25. 0\n",
       "26. 5\n",
       "27. 0\n",
       "\n",
       "\n"
      ],
      "text/plain": [
       " [1] 5 0 5 4 5 5 0 3 5 0 4 5 0 4 5 4 2 0 2 2 0 2 2 0 0 5 0"
      ]
     },
     "metadata": {},
     "output_type": "display_data"
    },
    {
     "data": {
      "text/html": [
       "27"
      ],
      "text/latex": [
       "27"
      ],
      "text/markdown": [
       "27"
      ],
      "text/plain": [
       "[1] 27"
      ]
     },
     "metadata": {},
     "output_type": "display_data"
    }
   ],
   "source": [
    "#Notes May 17-Indexing\n",
    "#select data to analyze\n",
    "protein<-df$protein\n",
    "#use logical operators to set limts\n",
    "index<-protein <= 5\n",
    "#print out matching results\n",
    "protein[index]\n",
    "#return number of matching entries\n",
    "sum(index)"
   ]
  },
  {
   "cell_type": "code",
   "execution_count": 27,
   "id": "ba9aeaa7",
   "metadata": {},
   "outputs": [],
   "source": [
    "#set up multipl\n",
    "calories<-df$calories <=200\n",
    "fat<-df$fat<=10"
   ]
  },
  {
   "cell_type": "code",
   "execution_count": 34,
   "id": "053bb8da",
   "metadata": {},
   "outputs": [
    {
     "data": {
      "text/html": [
       "<style>\n",
       ".list-inline {list-style: none; margin:0; padding: 0}\n",
       ".list-inline>li {display: inline-block}\n",
       ".list-inline>li:not(:last-child)::after {content: \"\\00b7\"; padding: 0 .5ex}\n",
       "</style>\n",
       "<ol class=list-inline><li>'Birthday Cake Mini Doughnut'</li><li>'Double Fudge Mini Doughnut'</li><li>'Petite Vanilla Bean Scone'</li><li>'Apple Pie'</li><li>'Birthday Cake Pop'</li><li>'Cherry Pie'</li><li>'Chocolate Hazelnut Tart'</li><li>'Raspberry Truffle Cake Pop'</li><li>'Tiramisu Cake Pop'</li><li>'Starbucks Perfect Oatmeal'</li><li>'Deluxe Fruit Blend'</li></ol>\n"
      ],
      "text/latex": [
       "\\begin{enumerate*}\n",
       "\\item 'Birthday Cake Mini Doughnut'\n",
       "\\item 'Double Fudge Mini Doughnut'\n",
       "\\item 'Petite Vanilla Bean Scone'\n",
       "\\item 'Apple Pie'\n",
       "\\item 'Birthday Cake Pop'\n",
       "\\item 'Cherry Pie'\n",
       "\\item 'Chocolate Hazelnut Tart'\n",
       "\\item 'Raspberry Truffle Cake Pop'\n",
       "\\item 'Tiramisu Cake Pop'\n",
       "\\item 'Starbucks Perfect Oatmeal'\n",
       "\\item 'Deluxe Fruit Blend'\n",
       "\\end{enumerate*}\n"
      ],
      "text/markdown": [
       "1. 'Birthday Cake Mini Doughnut'\n",
       "2. 'Double Fudge Mini Doughnut'\n",
       "3. 'Petite Vanilla Bean Scone'\n",
       "4. 'Apple Pie'\n",
       "5. 'Birthday Cake Pop'\n",
       "6. 'Cherry Pie'\n",
       "7. 'Chocolate Hazelnut Tart'\n",
       "8. 'Raspberry Truffle Cake Pop'\n",
       "9. 'Tiramisu Cake Pop'\n",
       "10. 'Starbucks Perfect Oatmeal'\n",
       "11. 'Deluxe Fruit Blend'\n",
       "\n",
       "\n"
      ],
      "text/plain": [
       " [1] \"Birthday Cake Mini Doughnut\" \"Double Fudge Mini Doughnut\" \n",
       " [3] \"Petite Vanilla Bean Scone\"   \"Apple Pie\"                  \n",
       " [5] \"Birthday Cake Pop\"           \"Cherry Pie\"                 \n",
       " [7] \"Chocolate Hazelnut Tart\"     \"Raspberry Truffle Cake Pop\" \n",
       " [9] \"Tiramisu Cake Pop\"           \"Starbucks Perfect Oatmeal\"  \n",
       "[11] \"Deluxe Fruit Blend\"         "
      ]
     },
     "metadata": {},
     "output_type": "display_data"
    }
   ],
   "source": [
    "# set index using &\n",
    "index=calories&fat\n",
    "#foods with bot less than 200 claories and 10 grams of fat\n",
    "foods<-df$item[index]\n",
    "foods"
   ]
  },
  {
   "cell_type": "code",
   "execution_count": 43,
   "id": "8b49b1ea",
   "metadata": {},
   "outputs": [
    {
     "data": {
      "text/html": [
       "<style>\n",
       ".list-inline {list-style: none; margin:0; padding: 0}\n",
       ".list-inline>li {display: inline-block}\n",
       ".list-inline>li:not(:last-child)::after {content: \"\\00b7\"; padding: 0 .5ex}\n",
       "</style>\n",
       "<ol class=list-inline><li>5</li><li>19</li><li>31</li><li>50</li><li>51</li><li>53</li><li>55</li><li>56</li><li>58</li><li>64</li><li>67</li></ol>\n"
      ],
      "text/latex": [
       "\\begin{enumerate*}\n",
       "\\item 5\n",
       "\\item 19\n",
       "\\item 31\n",
       "\\item 50\n",
       "\\item 51\n",
       "\\item 53\n",
       "\\item 55\n",
       "\\item 56\n",
       "\\item 58\n",
       "\\item 64\n",
       "\\item 67\n",
       "\\end{enumerate*}\n"
      ],
      "text/markdown": [
       "1. 5\n",
       "2. 19\n",
       "3. 31\n",
       "4. 50\n",
       "5. 51\n",
       "6. 53\n",
       "7. 55\n",
       "8. 56\n",
       "9. 58\n",
       "10. 64\n",
       "11. 67\n",
       "\n",
       "\n"
      ],
      "text/plain": [
       " [1]  5 19 31 50 51 53 55 56 58 64 67"
      ]
     },
     "metadata": {},
     "output_type": "display_data"
    },
    {
     "data": {
      "text/html": [
       "6"
      ],
      "text/latex": [
       "6"
      ],
      "text/markdown": [
       "6"
      ],
      "text/plain": [
       "[1] 6"
      ]
     },
     "metadata": {},
     "output_type": "display_data"
    }
   ],
   "source": [
    "#which()-return index position of matches\n",
    "which(index)\n",
    "#returns index of Birthday Cake Mini Doughnut'\n",
    "w<-which(df$item==\"Birthday Cake Mini Doughnut\")\n",
    "#returns fat value of Birthday Cake Mini Doughnut'\n",
    "df$fat[w]"
   ]
  },
  {
   "cell_type": "code",
   "execution_count": 47,
   "id": "75fd13d9",
   "metadata": {
    "scrolled": false
   },
   "outputs": [
    {
     "data": {
      "text/html": [
       "<style>\n",
       ".list-inline {list-style: none; margin:0; padding: 0}\n",
       ".list-inline>li {display: inline-block}\n",
       ".list-inline>li:not(:last-child)::after {content: \"\\00b7\"; padding: 0 .5ex}\n",
       "</style>\n",
       "<ol class=list-inline><li>5</li><li>19</li><li>58</li></ol>\n"
      ],
      "text/latex": [
       "\\begin{enumerate*}\n",
       "\\item 5\n",
       "\\item 19\n",
       "\\item 58\n",
       "\\end{enumerate*}\n"
      ],
      "text/markdown": [
       "1. 5\n",
       "2. 19\n",
       "3. 58\n",
       "\n",
       "\n"
      ],
      "text/plain": [
       "[1]  5 19 58"
      ]
     },
     "metadata": {},
     "output_type": "display_data"
    },
    {
     "data": {
      "text/html": [
       "<style>\n",
       ".list-inline {list-style: none; margin:0; padding: 0}\n",
       ".list-inline>li {display: inline-block}\n",
       ".list-inline>li:not(:last-child)::after {content: \"\\00b7\"; padding: 0 .5ex}\n",
       "</style>\n",
       "<ol class=list-inline><li>6</li><li>7</li><li>9</li></ol>\n"
      ],
      "text/latex": [
       "\\begin{enumerate*}\n",
       "\\item 6\n",
       "\\item 7\n",
       "\\item 9\n",
       "\\end{enumerate*}\n"
      ],
      "text/markdown": [
       "1. 6\n",
       "2. 7\n",
       "3. 9\n",
       "\n",
       "\n"
      ],
      "text/plain": [
       "[1] 6 7 9"
      ]
     },
     "metadata": {},
     "output_type": "display_data"
    }
   ],
   "source": [
    "#use match(),create custom index to test\n",
    "index<-match(c(\"Birthday Cake Mini Doughnut\",\"Double Fudge Mini Doughnut\",\"Tiramisu Cake Pop\"),df$item)\n",
    "index\n",
    "#returns fat values of items\n",
    "df$fat[index]"
   ]
  },
  {
   "cell_type": "code",
   "execution_count": 48,
   "id": "57aebf40",
   "metadata": {},
   "outputs": [
    {
     "data": {
      "text/html": [
       "<style>\n",
       ".list-inline {list-style: none; margin:0; padding: 0}\n",
       ".list-inline>li {display: inline-block}\n",
       ".list-inline>li:not(:last-child)::after {content: \"\\00b7\"; padding: 0 .5ex}\n",
       "</style>\n",
       "<ol class=list-inline><li>TRUE</li><li>TRUE</li><li>TRUE</li></ol>\n"
      ],
      "text/latex": [
       "\\begin{enumerate*}\n",
       "\\item TRUE\n",
       "\\item TRUE\n",
       "\\item TRUE\n",
       "\\end{enumerate*}\n"
      ],
      "text/markdown": [
       "1. TRUE\n",
       "2. TRUE\n",
       "3. TRUE\n",
       "\n",
       "\n"
      ],
      "text/plain": [
       "[1] TRUE TRUE TRUE"
      ]
     },
     "metadata": {},
     "output_type": "display_data"
    }
   ],
   "source": [
    "#%in% checks if subset is in larger dataframe\n",
    "c(\"Birthday Cake Mini Doughnut\",\"Double Fudge Mini Doughnut\",\"Tiramisu Cake Pop\") %in% df"
   ]
  },
  {
   "cell_type": "code",
   "execution_count": 50,
   "id": "f4889516",
   "metadata": {},
   "outputs": [
    {
     "data": {
      "text/html": [
       "<style>\n",
       ".list-inline {list-style: none; margin:0; padding: 0}\n",
       ".list-inline>li {display: inline-block}\n",
       ".list-inline>li:not(:last-child)::after {content: \"\\00b7\"; padding: 0 .5ex}\n",
       "</style>\n",
       "<ol class=list-inline><li>FALSE</li><li>FALSE</li><li>FALSE</li></ol>\n"
      ],
      "text/latex": [
       "\\begin{enumerate*}\n",
       "\\item FALSE\n",
       "\\item FALSE\n",
       "\\item FALSE\n",
       "\\end{enumerate*}\n"
      ],
      "text/markdown": [
       "1. FALSE\n",
       "2. FALSE\n",
       "3. FALSE\n",
       "\n",
       "\n"
      ],
      "text/plain": [
       "[1] FALSE FALSE FALSE"
      ]
     },
     "metadata": {},
     "output_type": "display_data"
    }
   ],
   "source": [
    "index%in%fat"
   ]
  },
  {
   "cell_type": "code",
   "execution_count": 3,
   "id": "ffef9ca9",
   "metadata": {},
   "outputs": [
    {
     "name": "stderr",
     "output_type": "stream",
     "text": [
      "Installing package into ‘/home/jesuspacheco69jp/R/x86_64-pc-linux-gnu-library/4.3’\n",
      "(as ‘lib’ is unspecified)\n",
      "\n"
     ]
    }
   ],
   "source": [
    "install.packages(\"dplyr\")"
   ]
  },
  {
   "cell_type": "code",
   "execution_count": 5,
   "id": "26d1341e",
   "metadata": {
    "scrolled": true
   },
   "outputs": [],
   "source": [
    "library(\"dplyr\")"
   ]
  },
  {
   "cell_type": "markdown",
   "id": "178244ef",
   "metadata": {},
   "source": [
    "change data frame-functions=mutate,filter,select.pipe\n"
   ]
  },
  {
   "cell_type": "code",
   "execution_count": null,
   "id": "71ec1246",
   "metadata": {},
   "outputs": [],
   "source": [
    "#train on this info on saturday\n",
    "library(dslabs)\n",
    "data(\"murders\")\n",
    "murders <- mutate(murders, rate = total / population * 100000)\n",
    "\n",
    "# subsetting with filter\n",
    "filter(murders, rate <= 0.71)\n",
    "\n",
    "# selecting columns with select\n",
    "new_table <- select(murders, state, region, rate)\n",
    "\n",
    "# using the pipe\n",
    "murders %>% select(state, region, rate) %>% filter(rate <= 0.71)\n",
    "\n",
    "# creating a data frame with stringAsFactors = FALSE\n",
    "grades <- data.frame(names = c(\"John\", \"Juan\", \"Jean\", \"Yao\"), \n",
    "                     exam_1 = c(95, 80, 90, 85), \n",
    "                     exam_2 = c(90, 85, 85, 90),\n",
    "                     stringsAsFactors = FALSE)\n",
    "data(\"murders\")\n",
    "\n",
    "# a simple scatterplot of total murders versus population\n",
    "x <- murders$population /10^6\n",
    "y <- murders$total\n",
    "plot(x, y)\n",
    "\n",
    "# a histogram of murder rates\n",
    "murders <- mutate(murders, rate = total / population * 100000)\n",
    "hist(murders$rate)\n",
    "\n",
    "# boxplots of murder rates by region\n",
    "boxplot(rate~region, data = murders)"
   ]
  },
  {
   "cell_type": "code",
   "execution_count": null,
   "id": "2f175eb6",
   "metadata": {},
   "outputs": [],
   "source": [
    "#notes 24 -practice on saturday\n",
    "library(tidyverse)\n",
    "library(dplyr)\n",
    "library(dslabs)\n",
    "data(murders)\n",
    "murders <- mutate(murders, rate = total / population * 10^5)\n",
    "# minimum, median, and maximum murder rate for the states in the West region\n",
    "s <- murders %>% \n",
    "  filter(region == \"West\") %>%\n",
    "  summarize(minimum = min(rate), \n",
    "            median = median(rate), \n",
    "            maximum = max(rate))\n",
    "s\n",
    "# accessing the components with the accessor $\n",
    "s$median\n",
    "s$maximum\n",
    "# average rate unadjusted by population size\n",
    "mean(murders$rate)\n",
    "# average rate adjusted by population size\n",
    "us_murder_rate <- murders %>% \n",
    "  summarize(rate = sum(total) / sum(population) * 10^5)\n",
    "us_murder_rate\n",
    "# minimum, median, and maximum murder rate for the states in the West region using quantile,quantile splits data into equal parts\n",
    "# note that this returns a vector\n",
    "murders %>% \n",
    "  filter(region == \"West\") %>%\n",
    "  summarize(range = quantile(rate, c(0, 0.5, 1)))\n",
    "\n",
    "# returning minimum, median, and maximum as a data frame\n",
    "my_quantile <- function(x){\n",
    "  r <-  quantile(x, c(0, 0.5, 1))\n",
    "  data.frame(minimum = r[1], median = r[2], maximum = r[3]) \n",
    "}\n",
    "murders %>% \n",
    "  filter(region == \"West\") %>%\n",
    "  summarize(my_quantile(rate))\n",
    "# the pull function can return it as a numeric value\n",
    "us_murder_rate %>% pull(rate)\n",
    "\n",
    "# using pull to save the number directly\n",
    "us_murder_rate <- murders %>% \n",
    "  summarize(rate = sum(total) / sum(population) * 10^5) %>%\n",
    "  pull(rate)\n",
    "us_murder_rate\n",
    "# using the dot to access the rate\n",
    "us_murder_rate <- murders %>% \n",
    "  summarize(rate = sum(total) / sum(population) * 10^5) %>%\n",
    "  .$rate\n",
    "us_murder_rate\n",
    "# group by region\n",
    "murders %>% group_by(region)\n",
    "# summarize after grouping\n",
    "murders %>% \n",
    "  group_by(region) %>%\n",
    "  summarize(median = median(rate))\n",
    "# order the states by population size\n",
    "murders %>% arrange(population) %>% head()\n",
    "# order the states by murder rate - the default is ascending order\n",
    "murders %>% arrange(rate) %>% head()\n",
    "# order the states by murder rate in descending order\n",
    "murders %>% arrange(desc(rate)) %>% head()\n",
    "# order the states by region and then by murder rate within region\n",
    "murders %>% arrange(region, rate) %>% head()\n",
    "# return the top 10 states by murder rate\n",
    "murders %>% top_n(10, rate)\n",
    "# return the top 10 states ranked by murder rate, sorted by murder rate\n",
    "murders %>% arrange(desc(rate)) %>% top_n(10)\n",
    "#data.table"
   ]
  },
  {
   "cell_type": "code",
   "execution_count": 1,
   "id": "771e093c",
   "metadata": {},
   "outputs": [
    {
     "name": "stderr",
     "output_type": "stream",
     "text": [
      "Installing package into ‘/home/jesuspacheco69jp/R/x86_64-pc-linux-gnu-library/4.3’\n",
      "(as ‘lib’ is unspecified)\n",
      "\n"
     ]
    }
   ],
   "source": [
    "#to isolate and better index from a column put it in c()\n",
    "install.packages(\"data.table\")"
   ]
  },
  {
   "cell_type": "code",
   "execution_count": 2,
   "id": "430d64f6",
   "metadata": {},
   "outputs": [],
   "source": [
    "library(\"data.table\")"
   ]
  },
  {
   "cell_type": "code",
   "execution_count": null,
   "id": "015ee6b0",
   "metadata": {},
   "outputs": [],
   "source": [
    "# convert the data frame into a data.table object\n",
    "murders <- setDT(murders)\n",
    "# selecting in dplyr\n",
    "select(murders, state, region)\n",
    "# selecting in data.table - 2 methods\n",
    "murders[, c(\"state\", \"region\")] |> head()\n",
    "murders[, .(state, region)] |> head()\n",
    "# adding or changing a column in dplyr\n",
    "murders <- mutate(murders, rate = total / population * 10^5)\n",
    "# adding or changing a column in data.table\n",
    "murders[, rate := total / population * 100000]\n",
    "head(murders)\n",
    "murders[, \":=\"(rate = total / population * 100000, rank = rank(population))]\n",
    "# y is referring to x and := changes by reference\n",
    "x <- data.table(a = 1)\n",
    "y <- x\n",
    "x[,a := 2]\n",
    "y\n",
    "y[,a := 1]\n",
    "x\n",
    "# use copy to make an actual copy\n",
    "x <- data.table(a = 1)\n",
    "y <- copy(x)\n",
    "x[,a := 2]\n",
    "y\n",
    "# subsetting in dplyr\n",
    "filter(murders, rate <= 0.7)\n",
    "# subsetting in data.table\n",
    "murders[rate <= 0.7]\n",
    "# combining filter and select in data.table\n",
    "murders[rate <= 0.7, .(state, rate)]\n",
    "# combining filter and select in dplyr\n",
    "murders %>% filter(rate <= 0.7) %>% select(state, rate)\n",
    "# summarizing in dplyr\n",
    "s <- heights %>% \n",
    "  summarize(average = mean(height), standard_deviation = sd(height))\n",
    "  \n",
    "# summarizing in data.table\n",
    "s <- heights[, .(average = mean(height), standard_deviation = sd(height))]\n",
    "\n",
    "# subsetting and then summarizing in dplyr\n",
    "s <- heights %>% \n",
    "  filter(sex == \"Female\") %>%\n",
    "  summarize(average = mean(height), standard_deviation = sd(height))\n",
    "  \n",
    "# subsetting and then summarizing in data.table\n",
    "s <- heights[sex == \"Female\", .(average = mean(height), standard_deviation = sd(height))]\n",
    "\n",
    "# previously defined function\n",
    "median_min_max <- function(x){\n",
    "  qs <- quantile(x, c(0.5, 0, 1))\n",
    "  data.frame(median = qs[1], minimum = qs[2], maximum = qs[3])\n",
    "}\n",
    "\n",
    "# multiple summaries in data.table\n",
    "heights[, .(median_min_max(height))]\n",
    "\n",
    "# grouping then summarizing in data.table\n",
    "heights[, .(average = mean(height), standard_deviation = sd(height)), by = sex]\n",
    "# order by population\n",
    "murders[order(population)] |> head()\n",
    "\n",
    "# order by population in descending order\n",
    "murders[order(population, decreasing = TRUE)] \n",
    "\n",
    "# order by region and then murder rate\n",
    "murders[order(region, rate)]\n",
    "# view the datasetmurders %>% group_by(region)\n",
    "\n",
    "# see the class\n",
    "murders %>% group_by(region) %>% class()\n",
    "\n",
    "# compare the print output of a regular data frame to a tibble\n",
    "gapminder\n",
    "as_tibble(gapminder)\n",
    "\n",
    "# compare subsetting a regular data frame and a tibble\n",
    "class(murders[,1])\n",
    "class(as_tibble(murders)[,1])\n",
    "\n",
    "# access a column vector not as a tibble using $\n",
    "class(as_tibble(murders)$state)\n",
    "\n",
    "# compare what happens when accessing a column that doesn't exist in a regular data frame to in a tibble\n",
    "murders$State\n",
    "as_tibble(murders)$State\n",
    "\n",
    "# create a tibble\n",
    "tibble(id = c(1, 2, 3), func = c(mean, median, sd))"
   ]
  },
  {
   "cell_type": "code",
   "execution_count": null,
   "id": "8d3b6343",
   "metadata": {},
   "outputs": [],
   "source": [
    "#chapter4\n",
    "# an example showing the general structure of an if-else statement\n",
    "a <- 0\n",
    "if(a!=0){\n",
    "  print(1/a)\n",
    "} else{\n",
    "  print(\"No reciprocal for 0.\")\n",
    "}\n",
    "# an example that tells us which states, if any, have a murder rate less than 0.5\n",
    "library(dslabs)\n",
    "data(murders)\n",
    "murder_rate <- murders$total / murders$population*100000\n",
    "ind <- which.min(murder_rate)\n",
    "if(murder_rate[ind] < 0.5){\n",
    "  print(murders$state[ind]) \n",
    "} else{\n",
    "  print(\"No state has murder rate that low\")\n",
    "}\n",
    "# changing the condition to < 0.25 changes the result\n",
    "if(murder_rate[ind] < 0.25){\n",
    "  print(murders$state[ind]) \n",
    "} else{\n",
    "  print(\"No state has a murder rate that low.\")\n",
    "}\n",
    "# the ifelse() function works similarly to an if-else conditional\n",
    "a <- 0\n",
    "ifelse(a > 0, 1/a, NA)\n",
    "# the ifelse() function is particularly useful on vectors\n",
    "a <- c(0,1,2,-4,5)\n",
    "result <- ifelse(a > 0, 1/a, NA)\n",
    "# the ifelse() function is also helpful for replacing missing values\n",
    "data(na_example)\n",
    "no_nas <- ifelse(is.na(na_example), 0, na_example) \n",
    "sum(is.na(no_nas))\n",
    "# the any() and all() functions evaluate logical vectors\n",
    "z <- c(TRUE, TRUE, FALSE)\n",
    "any(z)\n",
    "all(z)\n",
    "# example of defining a function to compute the average of a vector x\n",
    "avg <- function(x){\n",
    "  s <- sum(x)\n",
    "  n <- length(x)\n",
    "  s/n\n",
    "}\n",
    "\n",
    "# we see that the above function and the pre-built R mean() function are identical\n",
    "x <- 1:100\n",
    "identical(mean(x), avg(x))\n",
    "\n",
    "# variables inside a function are not defined in the workspace\n",
    "s <- 3\n",
    "avg(1:10)\n",
    "s\n",
    "\n",
    "# the general form of a function\n",
    "my_function <- function(VARIABLE_NAME){\n",
    "  perform operations on VARIABLE_NAME and calculate VALUE\n",
    "  VALUE\n",
    "}\n",
    "\n",
    "# functions can have multiple arguments as well as default values\n",
    "avg <- function(x, arithmetic = TRUE){\n",
    "  n <- length(x)\n",
    "  ifelse(arithmetic, sum(x)/n, prod(x)^(1/n))\n",
    "}"
   ]
  },
  {
   "cell_type": "code",
   "execution_count": null,
   "id": "6be56916",
   "metadata": {},
   "outputs": [],
   "source": [
    "# creating a function that computes the sum of integers 1 through n\n",
    "compute_s_n <- function(n){\n",
    "  x <- 1:n\n",
    "  sum(x)\n",
    "}\n",
    "\n",
    "# a very simple for-loop\n",
    "for(i in 1:5){\n",
    "  print(i)\n",
    "}\n",
    "\n",
    "# a for-loop for our summation\n",
    "m <- 25\n",
    "s_n <- vector(length = m) # create an empty vector\n",
    "for(n in 1:m){\n",
    "  s_n[n] <- compute_s_n(n)\n",
    "}\n",
    "\n",
    "# creating a plot for our summation function\n",
    "n <- 1:m\n",
    "plot(n, s_n)\n",
    "\n",
    "# a table of values comparing our function to the summation formula\n",
    "head(data.frame(s_n = s_n, formula = n*(n+1)/2))\n",
    "\n",
    "# overlaying our function with the summation formula\n",
    "plot(n, s_n)\n",
    "lines(n, n*(n+1)/2)\n"
   ]
  }
 ],
 "metadata": {
  "kernelspec": {
   "display_name": "R",
   "language": "R",
   "name": "ir"
  },
  "language_info": {
   "codemirror_mode": "r",
   "file_extension": ".r",
   "mimetype": "text/x-r-source",
   "name": "R",
   "pygments_lexer": "r",
   "version": "4.3.0"
  }
 },
 "nbformat": 4,
 "nbformat_minor": 5
}
